{
 "cells": [
  {
   "cell_type": "code",
   "execution_count": 1,
   "metadata": {
    "execution": {
     "iopub.execute_input": "2024-08-11T06:39:16.165467Z",
     "iopub.status.busy": "2024-08-11T06:39:16.164892Z",
     "iopub.status.idle": "2024-08-11T06:39:17.598395Z",
     "shell.execute_reply": "2024-08-11T06:39:17.597851Z"
    }
   },
   "outputs": [],
   "source": [
    "import itertools as it\n",
    "import typing\n",
    "\n",
    "from nbmetalog import nbmetalog as nbm\n",
    "import numpy as np\n",
    "from matplotlib import pyplot as plt\n",
    "import seaborn as sns\n",
    "from tqdm import tqdm\n",
    "\n",
    "from pylib import hanoi\n"
   ]
  },
  {
   "cell_type": "code",
   "execution_count": 2,
   "metadata": {
    "execution": {
     "iopub.execute_input": "2024-08-11T06:39:17.601525Z",
     "iopub.status.busy": "2024-08-11T06:39:17.600831Z",
     "iopub.status.idle": "2024-08-11T06:39:17.957333Z",
     "shell.execute_reply": "2024-08-11T06:39:17.956623Z"
    }
   },
   "outputs": [
    {
     "name": "stdout",
     "output_type": "stream",
     "text": [
      "context: ci\n",
      "hostname: fv-az975-85\n",
      "interpreter: 3.10.12 (main, Jul 29 2024, 16:56:48) [GCC 11.4.0]\n",
      "nbcellexec: null\n",
      "nbname: retention-equivalence-tilted\n",
      "nbpath: /home/runner/work/hstrat-surface-concept/hstrat-surface-concept/binder/retention-equivalence-tilted.ipynb\n",
      "revision: null\n",
      "session: 95953380-f14b-4063-9fea-502ba0db011f\n",
      "timestamp: 2024-08-11T06:39:17Z00:00\n",
      "\n",
      "\n",
      "IPython==7.31.1\n",
      "keyname==0.5.2\n",
      "yaml==6.0\n",
      "matplotlib==3.8.3\n",
      "nbmetalog==0.2.6\n",
      "numpy==1.23.5\n",
      "seaborn==0.13.2\n",
      "re==2.2.1\n",
      "comm==0.1.3\n",
      "logging==0.5.1.2\n",
      "psutil==5.9.5\n",
      "zmq==25.1.0\n",
      "json==2.0.9\n",
      "ipykernel==6.23.3\n"
     ]
    }
   ],
   "source": [
    "nbm.print_metadata()\n"
   ]
  },
  {
   "cell_type": "markdown",
   "metadata": {},
   "source": [
    "## Define Set Construction\n"
   ]
  },
  {
   "cell_type": "code",
   "execution_count": 3,
   "metadata": {
    "execution": {
     "iopub.execute_input": "2024-08-11T06:39:17.988752Z",
     "iopub.status.busy": "2024-08-11T06:39:17.988309Z",
     "iopub.status.idle": "2024-08-11T06:39:17.991923Z",
     "shell.execute_reply": "2024-08-11T06:39:17.991361Z"
    }
   },
   "outputs": [],
   "source": [
    "def filter_retained(reserved_per_hanoi: int, cur_time: int) -> typing.Set[int]:\n",
    "    n = int(reserved_per_hanoi)  # handle numpy dtypes...\n",
    "    T = int(cur_time)\n",
    "    return {\n",
    "        t\n",
    "        for t in range(T + 1)\n",
    "        if hanoi.get_incidence_count_of_hanoi_value_through_index(\n",
    "            hanoi.get_hanoi_value_at_index(t), T\n",
    "        )\n",
    "        - 1\n",
    "        - hanoi.get_hanoi_value_incidence_at_index(t)\n",
    "        < n\n",
    "    }\n"
   ]
  },
  {
   "cell_type": "code",
   "execution_count": 4,
   "metadata": {
    "execution": {
     "iopub.execute_input": "2024-08-11T06:39:17.994142Z",
     "iopub.status.busy": "2024-08-11T06:39:17.993792Z",
     "iopub.status.idle": "2024-08-11T06:39:17.997392Z",
     "shell.execute_reply": "2024-08-11T06:39:17.996831Z"
    }
   },
   "outputs": [],
   "source": [
    "def construct_retained_abstracted(\n",
    "    reserved_per_hanoi: int, cur_time: int\n",
    ") -> typing.Set[int]:\n",
    "    n = int(reserved_per_hanoi)  # handle numpy dtypes...\n",
    "    T = int(cur_time)\n",
    "    generator = filter(\n",
    "        lambda t: t >= 0,\n",
    "        (\n",
    "            hanoi.get_hanoi_value_index_cadence(h)\n",
    "            * (\n",
    "                (T - hanoi.get_hanoi_value_index_offset(h))\n",
    "                // hanoi.get_hanoi_value_index_cadence(h)\n",
    "                - i\n",
    "            )\n",
    "            + hanoi.get_hanoi_value_index_offset(h)\n",
    "            for h in range(hanoi.get_max_hanoi_value_through_index(T) + 1)\n",
    "            for i in range(n)\n",
    "        ),\n",
    "    )\n",
    "    return set(generator)\n"
   ]
  },
  {
   "cell_type": "code",
   "execution_count": 5,
   "metadata": {
    "execution": {
     "iopub.execute_input": "2024-08-11T06:39:17.999619Z",
     "iopub.status.busy": "2024-08-11T06:39:17.999279Z",
     "iopub.status.idle": "2024-08-11T06:39:18.002961Z",
     "shell.execute_reply": "2024-08-11T06:39:18.002313Z"
    }
   },
   "outputs": [],
   "source": [
    "def construct_retained_naive(\n",
    "    reserved_per_hanoi: int, cur_time: int\n",
    ") -> typing.Set[int]:\n",
    "    n = int(reserved_per_hanoi)  # handle numpy dtypes...\n",
    "    T = int(cur_time)\n",
    "    generator = filter(\n",
    "        lambda t: t >= 0,\n",
    "        (\n",
    "            2 ** (h + 1) * ((T - 2**h + 1) // 2 ** (h + 1) - i) + 2**h - 1\n",
    "            for h in range(hanoi.get_max_hanoi_value_through_index(T) + 1)\n",
    "            for i in range(n)\n",
    "        ),\n",
    "    )\n",
    "    return set(generator)\n"
   ]
  },
  {
   "cell_type": "code",
   "execution_count": 6,
   "metadata": {
    "execution": {
     "iopub.execute_input": "2024-08-11T06:39:18.005041Z",
     "iopub.status.busy": "2024-08-11T06:39:18.004879Z",
     "iopub.status.idle": "2024-08-11T06:39:18.008327Z",
     "shell.execute_reply": "2024-08-11T06:39:18.007724Z"
    }
   },
   "outputs": [],
   "source": [
    "def construct_retained_distilled(\n",
    "    reserved_per_hanoi: int, cur_time: int\n",
    ") -> typing.Set[int]:\n",
    "    n = int(reserved_per_hanoi)  # handle numpy dtypes...\n",
    "    T = int(cur_time)\n",
    "    generator = filter(\n",
    "        lambda t: t >= 0,\n",
    "        (\n",
    "            2**h * ((T + 1) // 2**h - i) - 1\n",
    "            for h in range(hanoi.get_max_hanoi_value_through_index(T) + 1)\n",
    "            for i in range(2 * n)\n",
    "        ),\n",
    "    )\n",
    "    return set(generator)\n"
   ]
  },
  {
   "cell_type": "code",
   "execution_count": 7,
   "metadata": {
    "execution": {
     "iopub.execute_input": "2024-08-11T06:39:18.010525Z",
     "iopub.status.busy": "2024-08-11T06:39:18.010343Z",
     "iopub.status.idle": "2024-08-11T06:39:18.016149Z",
     "shell.execute_reply": "2024-08-11T06:39:18.015611Z"
    }
   },
   "outputs": [],
   "source": [
    "def calc_distilled2naive(h: int, i: int, T: int, n: int) -> int:\n",
    "    distilled = 2**h * ((T + 1) // 2**h - i) - 1\n",
    "    if distilled < 0 or distilled > T:\n",
    "        return -1\n",
    "\n",
    "    H = hanoi.get_hanoi_value_at_index(distilled)\n",
    "    assert H >= h\n",
    "\n",
    "    Z = ((T - 2**H + 1) // 2 ** (h)) / 2 ** (H + 1 - h) - (\n",
    "        (T - 2**H + 1) // 2 ** (H + 1)\n",
    "    )\n",
    "    assert 0 <= Z < 1\n",
    "\n",
    "    assert (Z - i / 2 ** (H - h + 1)).is_integer()\n",
    "    assert 0 <= -(Z - i / 2 ** (H - h + 1)) < n\n",
    "\n",
    "    return (\n",
    "        2 ** (H + 1)\n",
    "        * (((T - 2**H + 1) // 2 ** (H + 1)) + Z - i / 2 ** (H - h + 1))\n",
    "        + 2**H\n",
    "        - 1\n",
    "    )\n",
    "\n",
    "\n",
    "def construct_retained_distilled2naive(\n",
    "    reserved_per_hanoi: int, cur_time: int\n",
    ") -> typing.Set[int]:\n",
    "    n = int(reserved_per_hanoi)  # handle numpy dtypes...\n",
    "    T = int(cur_time)\n",
    "    generator = filter(\n",
    "        lambda t: t >= 0 and t <= T,\n",
    "        (\n",
    "            calc_distilled2naive(h, i, T, n)\n",
    "            for h in range(hanoi.get_max_hanoi_value_through_index(T) + 1)\n",
    "            for i in range(2 * n)\n",
    "        ),\n",
    "    )\n",
    "    return set(generator)\n"
   ]
  },
  {
   "cell_type": "markdown",
   "metadata": {},
   "source": [
    "## Visualize Constructed Sets\n"
   ]
  },
  {
   "cell_type": "code",
   "execution_count": 8,
   "metadata": {
    "execution": {
     "iopub.execute_input": "2024-08-11T06:39:18.018587Z",
     "iopub.status.busy": "2024-08-11T06:39:18.018233Z",
     "iopub.status.idle": "2024-08-11T06:39:18.021792Z",
     "shell.execute_reply": "2024-08-11T06:39:18.021253Z"
    }
   },
   "outputs": [],
   "source": [
    "def plot_retained(retained: typing.Set[int], T: int) -> plt.Axes:\n",
    "    ax = sns.rugplot(list(retained), height=1.0)\n",
    "    ax.figure.set_size_inches(7, 1)\n",
    "    ax.yaxis.set_visible(False)\n",
    "    ax.axvline(x=T, color=\"black\", linewidth=2, ls=\":\")\n",
    "    ax.set_xlim(-1, T + 1)\n",
    "    return ax\n"
   ]
  },
  {
   "cell_type": "code",
   "execution_count": 9,
   "metadata": {
    "execution": {
     "iopub.execute_input": "2024-08-11T06:39:18.024074Z",
     "iopub.status.busy": "2024-08-11T06:39:18.023710Z",
     "iopub.status.idle": "2024-08-11T06:39:18.335514Z",
     "shell.execute_reply": "2024-08-11T06:39:18.334764Z"
    }
   },
   "outputs": [
    {
     "data": {
      "image/png": "[encoded data removed]",
      "text/plain": [
       "<Figure size 700x100 with 1 Axes>"
      ]
     },
     "metadata": {},
     "output_type": "display_data"
    },
    {
     "name": "stdout",
     "output_type": "stream",
     "text": [
      "n=1, T=87, len(retained)=7\n",
      "[31, 63, 79, 83, 85, 86, 87]\n",
      "\n"
     ]
    },
    {
     "data": {
      "image/png": "[encoded data removed]",
      "text/plain": [
       "<Figure size 700x100 with 1 Axes>"
      ]
     },
     "metadata": {},
     "output_type": "display_data"
    },
    {
     "name": "stdout",
     "output_type": "stream",
     "text": [
      "n=5, T=128, len(retained)=28\n",
      "[15, 31, 47, 55, 63, 71, 79, 87, 91, 95, 99, 103, 107, 109, 111, 113, 115, 117, 119, 120, 121, 122, 123, 124, 125, 126, 127, 128]\n",
      "\n"
     ]
    },
    {
     "data": {
      "image/png": "[encoded data removed]",
      "text/plain": [
       "<Figure size 700x100 with 1 Axes>"
      ]
     },
     "metadata": {},
     "output_type": "display_data"
    },
    {
     "name": "stdout",
     "output_type": "stream",
     "text": [
      "n=3, T=17, len(retained)=10\n",
      "[3, 7, 9, 11, 12, 13, 14, 15, 16, 17]\n",
      "\n"
     ]
    },
    {
     "data": {
      "image/png": "[encoded data removed]",
      "text/plain": [
       "<Figure size 700x100 with 1 Axes>"
      ]
     },
     "metadata": {},
     "output_type": "display_data"
    },
    {
     "name": "stdout",
     "output_type": "stream",
     "text": [
      "n=4, T=70, len(retained)=20\n",
      "[7, 15, 23, 31, 39, 43, 47, 51, 55, 57, 59, 61, 63, 64, 65, 66, 67, 68, 69, 70]\n",
      "\n"
     ]
    }
   ],
   "source": [
    "for n, T in [(1, 87), (5, 128), (3, 17), (4, 70)]:\n",
    "    retained = construct_retained_distilled(n, T)\n",
    "    plot_retained(retained, T)\n",
    "    plt.show()\n",
    "    print(f\"n={n}, T={T}, len(retained)={len(retained)}\")\n",
    "    print(sorted(retained))\n",
    "    print()\n"
   ]
  },
  {
   "cell_type": "markdown",
   "metadata": {},
   "source": [
    "## Test Set Construction Equivalence\n"
   ]
  },
  {
   "cell_type": "code",
   "execution_count": 10,
   "metadata": {
    "execution": {
     "iopub.execute_input": "2024-08-11T06:39:18.338650Z",
     "iopub.status.busy": "2024-08-11T06:39:18.338137Z",
     "iopub.status.idle": "2024-08-11T06:40:27.045143Z",
     "shell.execute_reply": "2024-08-11T06:40:27.044497Z"
    }
   },
   "outputs": [
    {
     "name": "stderr",
     "output_type": "stream",
     "text": [
      "100%|██████████| 12000/12000 [01:08<00:00, 174.68it/s]\n"
     ]
    }
   ],
   "source": [
    "for n, T in tqdm(\n",
    "    it.chain(\n",
    "        it.product(\n",
    "            range(100),\n",
    "            range(100),\n",
    "        ),\n",
    "        zip(\n",
    "            np.random.RandomState(seed=1).randint(500, size=2000),\n",
    "            np.random.RandomState(seed=1).randint(100, 10001, size=2000),\n",
    "        ),\n",
    "    ),\n",
    "    total=100 * 100 + 2000,\n",
    "):\n",
    "    assert (\n",
    "        filter_retained(n, T)\n",
    "        == construct_retained_abstracted(n, T)\n",
    "        == construct_retained_naive(n, T)\n",
    "        == construct_retained_distilled(n, T)\n",
    "        == construct_retained_distilled2naive(n, T)\n",
    "    )\n"
   ]
  }
 ],
 "metadata": {
  "kernelspec": {
   "display_name": "Python 3",
   "language": "python",
   "name": "python3"
  },
  "language_info": {
   "codemirror_mode": {
    "name": "ipython",
    "version": 3
   },
   "file_extension": ".py",
   "mimetype": "text/x-python",
   "name": "python",
   "nbconvert_exporter": "python",
   "pygments_lexer": "ipython3",
   "version": "3.10.12"
  }
 },
 "nbformat": 4,
 "nbformat_minor": 2
}
