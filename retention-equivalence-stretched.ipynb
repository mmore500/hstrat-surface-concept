{
 "cells": [
  {
   "cell_type": "code",
   "execution_count": 1,
   "metadata": {
    "execution": {
     "iopub.execute_input": "2024-08-19T21:29:38.350662Z",
     "iopub.status.busy": "2024-08-19T21:29:38.350250Z",
     "iopub.status.idle": "2024-08-19T21:29:39.649794Z",
     "shell.execute_reply": "2024-08-19T21:29:39.649199Z"
    }
   },
   "outputs": [],
   "source": [
    "import itertools as it\n",
    "import typing\n",
    "\n",
    "from nbmetalog import nbmetalog as nbm\n",
    "import numpy as np\n",
    "from matplotlib import pyplot as plt\n",
    "import seaborn as sns\n",
    "from tqdm import tqdm\n",
    "\n",
    "from pylib import hanoi\n"
   ]
  },
  {
   "cell_type": "code",
   "execution_count": 2,
   "metadata": {
    "execution": {
     "iopub.execute_input": "2024-08-19T21:29:39.652637Z",
     "iopub.status.busy": "2024-08-19T21:29:39.652149Z",
     "iopub.status.idle": "2024-08-19T21:29:40.004036Z",
     "shell.execute_reply": "2024-08-19T21:29:40.003395Z"
    }
   },
   "outputs": [
    {
     "name": "stdout",
     "output_type": "stream",
     "text": [
      "context: ci\n",
      "hostname: fv-az979-640\n",
      "interpreter: 3.10.12 (main, Jul 29 2024, 16:56:48) [GCC 11.4.0]\n",
      "nbcellexec: null\n",
      "nbname: retention-equivalence-stretched\n",
      "nbpath: /home/runner/work/hstrat-surface-concept/hstrat-surface-concept/binder/retention-equivalence-stretched.ipynb\n",
      "revision: null\n",
      "session: 5819ecfe-190c-4332-ba0f-f0883849f6fd\n",
      "timestamp: 2024-08-19T21:29:39Z00:00\n",
      "\n",
      "\n",
      "IPython==7.31.1\n",
      "keyname==0.5.2\n",
      "yaml==6.0\n",
      "matplotlib==3.8.3\n",
      "nbmetalog==0.2.6\n",
      "numpy==1.23.5\n",
      "seaborn==0.13.2\n",
      "re==2.2.1\n",
      "comm==0.1.3\n",
      "logging==0.5.1.2\n",
      "psutil==5.9.5\n",
      "zmq==25.1.0\n",
      "json==2.0.9\n",
      "ipykernel==6.23.3\n"
     ]
    }
   ],
   "source": [
    "nbm.print_metadata()\n"
   ]
  },
  {
   "cell_type": "markdown",
   "metadata": {},
   "source": [
    "## Define Set Construction\n"
   ]
  },
  {
   "cell_type": "code",
   "execution_count": 3,
   "metadata": {
    "execution": {
     "iopub.execute_input": "2024-08-19T21:29:40.032733Z",
     "iopub.status.busy": "2024-08-19T21:29:40.032337Z",
     "iopub.status.idle": "2024-08-19T21:29:40.035659Z",
     "shell.execute_reply": "2024-08-19T21:29:40.035165Z"
    }
   },
   "outputs": [],
   "source": [
    "def filter_retained(reserved_per_hanoi: int, cur_time: int) -> typing.Set[int]:\n",
    "    n = int(reserved_per_hanoi)  # handle numpy dtypes...\n",
    "    T = int(cur_time)\n",
    "    return {\n",
    "        t\n",
    "        for t in range(T + 1)\n",
    "        if hanoi.get_hanoi_value_incidence_at_index(t) < n\n",
    "    }\n"
   ]
  },
  {
   "cell_type": "code",
   "execution_count": 4,
   "metadata": {
    "execution": {
     "iopub.execute_input": "2024-08-19T21:29:40.037854Z",
     "iopub.status.busy": "2024-08-19T21:29:40.037527Z",
     "iopub.status.idle": "2024-08-19T21:29:40.040991Z",
     "shell.execute_reply": "2024-08-19T21:29:40.040504Z"
    }
   },
   "outputs": [],
   "source": [
    "def construct_retained_abstracted(\n",
    "    reserved_per_hanoi: int, cur_time: int\n",
    ") -> typing.Set[int]:\n",
    "    n = int(reserved_per_hanoi)  # handle numpy dtypes...\n",
    "    T = int(cur_time)\n",
    "    generator = filter(\n",
    "        lambda t: t <= T,\n",
    "        (\n",
    "            hanoi.get_hanoi_value_index_cadence(h) * i\n",
    "            + hanoi.get_hanoi_value_index_offset(h)\n",
    "            for h in range(hanoi.get_max_hanoi_value_through_index(T) + 1)\n",
    "            for i in range(n)\n",
    "        ),\n",
    "    )\n",
    "    return set(generator)\n"
   ]
  },
  {
   "cell_type": "code",
   "execution_count": 5,
   "metadata": {
    "execution": {
     "iopub.execute_input": "2024-08-19T21:29:40.043178Z",
     "iopub.status.busy": "2024-08-19T21:29:40.042847Z",
     "iopub.status.idle": "2024-08-19T21:29:40.046202Z",
     "shell.execute_reply": "2024-08-19T21:29:40.045718Z"
    }
   },
   "outputs": [],
   "source": [
    "def construct_retained_naive(\n",
    "    reserved_per_hanoi: int, cur_time: int\n",
    ") -> typing.Set[int]:\n",
    "    n = int(reserved_per_hanoi)  # handle numpy dtypes...\n",
    "    T = int(cur_time)\n",
    "    generator = filter(\n",
    "        lambda t: t <= T,\n",
    "        (\n",
    "            2 ** (h + 1) * i + 2**h - 1\n",
    "            for h in range(hanoi.get_max_hanoi_value_through_index(T) + 1)\n",
    "            for i in range(n)\n",
    "        ),\n",
    "    )\n",
    "    return set(generator)\n"
   ]
  },
  {
   "cell_type": "code",
   "execution_count": 6,
   "metadata": {
    "execution": {
     "iopub.execute_input": "2024-08-19T21:29:40.048329Z",
     "iopub.status.busy": "2024-08-19T21:29:40.048157Z",
     "iopub.status.idle": "2024-08-19T21:29:40.051338Z",
     "shell.execute_reply": "2024-08-19T21:29:40.050778Z"
    }
   },
   "outputs": [],
   "source": [
    "def construct_retained_distilled(\n",
    "    reserved_per_hanoi: int, cur_time: int\n",
    ") -> typing.Set[int]:\n",
    "    n = int(reserved_per_hanoi)  # handle numpy dtypes...\n",
    "    T = int(cur_time)\n",
    "    generator = filter(\n",
    "        lambda t: t <= T,\n",
    "        (\n",
    "            i * 2**h - 1\n",
    "            for h in range(hanoi.get_max_hanoi_value_through_index(T) + 1)\n",
    "            for i in range(1, 2 * n + 1)\n",
    "        ),\n",
    "    )\n",
    "    return set(generator)\n"
   ]
  },
  {
   "cell_type": "markdown",
   "metadata": {},
   "source": [
    "## Visualize Constructed Sets\n"
   ]
  },
  {
   "cell_type": "code",
   "execution_count": 7,
   "metadata": {
    "execution": {
     "iopub.execute_input": "2024-08-19T21:29:40.053567Z",
     "iopub.status.busy": "2024-08-19T21:29:40.053221Z",
     "iopub.status.idle": "2024-08-19T21:29:40.056436Z",
     "shell.execute_reply": "2024-08-19T21:29:40.055890Z"
    }
   },
   "outputs": [],
   "source": [
    "def plot_retained(retained: typing.Set[int], T: int) -> plt.Axes:\n",
    "    ax = sns.rugplot(list(retained), height=1.0)\n",
    "    ax.figure.set_size_inches(7, 1)\n",
    "    ax.yaxis.set_visible(False)\n",
    "    ax.axvline(x=0, color=\"black\", linewidth=2, ls=\":\")\n",
    "    ax.set_xlim(-1, T + 1)\n",
    "    return ax\n"
   ]
  },
  {
   "cell_type": "code",
   "execution_count": 8,
   "metadata": {
    "execution": {
     "iopub.execute_input": "2024-08-19T21:29:40.058596Z",
     "iopub.status.busy": "2024-08-19T21:29:40.058260Z",
     "iopub.status.idle": "2024-08-19T21:29:40.395707Z",
     "shell.execute_reply": "2024-08-19T21:29:40.395090Z"
    }
   },
   "outputs": [
    {
     "data": {
      "image/png": "[encoded data removed]",
      "text/plain": [
       "<Figure size 700x100 with 1 Axes>"
      ]
     },
     "metadata": {},
     "output_type": "display_data"
    },
    {
     "name": "stdout",
     "output_type": "stream",
     "text": [
      "n=1, T=87, len(retained)=7\n",
      "[0, 1, 3, 7, 15, 31, 63]\n",
      "\n"
     ]
    },
    {
     "data": {
      "image/png": "[encoded data removed]",
      "text/plain": [
       "<Figure size 700x100 with 1 Axes>"
      ]
     },
     "metadata": {},
     "output_type": "display_data"
    },
    {
     "name": "stdout",
     "output_type": "stream",
     "text": [
      "n=5, T=128, len(retained)=28\n",
      "[0, 1, 2, 3, 4, 5, 6, 7, 8, 9, 11, 13, 15, 17, 19, 23, 27, 31, 35, 39, 47, 55, 63, 71, 79, 95, 111, 127]\n",
      "\n"
     ]
    },
    {
     "data": {
      "image/png": "[encoded data removed]",
      "text/plain": [
       "<Figure size 700x100 with 1 Axes>"
      ]
     },
     "metadata": {},
     "output_type": "display_data"
    },
    {
     "name": "stdout",
     "output_type": "stream",
     "text": [
      "n=3, T=17, len(retained)=10\n",
      "[0, 1, 2, 3, 4, 5, 7, 9, 11, 15]\n",
      "\n"
     ]
    },
    {
     "data": {
      "image/png": "[encoded data removed]",
      "text/plain": [
       "<Figure size 700x100 with 1 Axes>"
      ]
     },
     "metadata": {},
     "output_type": "display_data"
    },
    {
     "name": "stdout",
     "output_type": "stream",
     "text": [
      "n=4, T=70, len(retained)=20\n",
      "[0, 1, 2, 3, 4, 5, 6, 7, 9, 11, 13, 15, 19, 23, 27, 31, 39, 47, 55, 63]\n",
      "\n"
     ]
    }
   ],
   "source": [
    "for n, T in [(1, 87), (5, 128), (3, 17), (4, 70)]:\n",
    "    retained = filter_retained(n, T)\n",
    "    plot_retained(retained, T)\n",
    "    plt.show()\n",
    "    print(f\"n={n}, T={T}, len(retained)={len(retained)}\")\n",
    "    print(sorted(retained))\n",
    "    print()\n"
   ]
  },
  {
   "cell_type": "markdown",
   "metadata": {},
   "source": [
    "## Test Set Construction Equivalence\n"
   ]
  },
  {
   "cell_type": "code",
   "execution_count": 9,
   "metadata": {
    "execution": {
     "iopub.execute_input": "2024-08-19T21:29:40.398702Z",
     "iopub.status.busy": "2024-08-19T21:29:40.398302Z",
     "iopub.status.idle": "2024-08-19T21:29:56.838339Z",
     "shell.execute_reply": "2024-08-19T21:29:56.837783Z"
    }
   },
   "outputs": [
    {
     "name": "stderr",
     "output_type": "stream",
     "text": [
      "100%|██████████| 12000/12000 [00:16<00:00, 730.33it/s]\n"
     ]
    }
   ],
   "source": [
    "for n, T in tqdm(\n",
    "    it.chain(\n",
    "        it.product(\n",
    "            range(100),\n",
    "            range(100),\n",
    "        ),\n",
    "        zip(\n",
    "            np.random.RandomState(seed=1).randint(500, size=2000),\n",
    "            np.random.RandomState(seed=1).randint(100, 10001, size=2000),\n",
    "        ),\n",
    "    ),\n",
    "    total=100 * 100 + 2000,\n",
    "):\n",
    "\n",
    "    assert (\n",
    "        filter_retained(n, T)\n",
    "        == construct_retained_abstracted(n, T)\n",
    "        == construct_retained_naive(n, T)\n",
    "        == construct_retained_distilled(n, T)\n",
    "    )\n"
   ]
  }
 ],
 "metadata": {
  "kernelspec": {
   "display_name": "Python 3",
   "language": "python",
   "name": "python3"
  },
  "language_info": {
   "codemirror_mode": {
    "name": "ipython",
    "version": 3
   },
   "file_extension": ".py",
   "mimetype": "text/x-python",
   "name": "python",
   "nbconvert_exporter": "python",
   "pygments_lexer": "ipython3",
   "version": "3.10.12"
  }
 },
 "nbformat": 4,
 "nbformat_minor": 2
}
