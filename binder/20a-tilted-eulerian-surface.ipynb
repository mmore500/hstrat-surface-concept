{
 "cells": [
  {
   "cell_type": "code",
   "execution_count": null,
   "metadata": {},
   "outputs": [],
   "source": [
    "import logging\n",
    "import random\n",
    "\n",
    "import matplotlib as mpl\n",
    "from nbmetalog import nbmetalog as nbm\n",
    "import seaborn as sns\n",
    "from tqdm import tqdm\n",
    "\n",
    "from hsurf.hsurf import tilted_algo as tilted_algo\n",
    "from hsurf import site_selection_strategy\n",
    "import pylib\n",
    "\n",
    "random.seed(1)\n",
    "\n",
    "logging.basicConfig(\n",
    "    format=\"[%(funcName)s:%(lineno)d] %(message)s\",\n",
    ")\n",
    "logger = logging.getLogger()\n",
    "\n",
    "pylib.jupyter_hide_toggle(hide=True)\n"
   ]
  },
  {
   "cell_type": "code",
   "execution_count": null,
   "metadata": {},
   "outputs": [],
   "source": [
    "nbm.print_metadata()\n",
    "\n",
    "pylib.jupyter_hide_toggle(hide=True)\n"
   ]
  },
  {
   "cell_type": "markdown",
   "metadata": {},
   "source": [
    "## Visualize Tilted Criterion Satisfaction\n"
   ]
  },
  {
   "cell_type": "code",
   "execution_count": null,
   "metadata": {},
   "outputs": [],
   "source": [
    "mpl.rcParams.update(\n",
    "    {\n",
    "        \"figure.figsize\": (6, 1.5),\n",
    "        \"font.family\": \"serif\",\n",
    "    },\n",
    ")\n"
   ]
  },
  {
   "cell_type": "code",
   "execution_count": null,
   "metadata": {},
   "outputs": [],
   "source": [
    "for surface_size in 8, 16, 32:\n",
    "    surface_history_df = pylib.site_selection_eval.make_surface_history_df(\n",
    "        tilted_algo.pick_ingest_site,\n",
    "        surface_size=surface_size,\n",
    "        num_generations=min(2**surface_size - 1, 2**16),\n",
    "        progress_wrap=tqdm,\n",
    "    )\n",
    "    criteria_df = pylib.site_selection_eval.calc_surface_history_criteria(\n",
    "        surface_history_df,\n",
    "        tilted_algo,\n",
    "        site_selection_strategy.site_selection_bounds,\n",
    "        site_selection_strategy.site_selection_criteria,\n",
    "        enforce_tilted_bound=True,\n",
    "        progress_wrap=tqdm,\n",
    "    )\n",
    "    with pylib.teed_release(\n",
    "        pylib.site_selection_viz.criterion_satisfaction_lineplot,\n",
    "        data=criteria_df[\n",
    "            ~criteria_df[\"kind\"].isin([\"naive lower bound\"])\n",
    "        ],\n",
    "        x=\"rank\",\n",
    "        y=\"tilted criterion\",\n",
    "        hue=\"kind\",\n",
    "        surface_size=surface_size,\n",
    "        teeplot_outinclude=\"surface_size\",\n",
    "        teeplot_subdir=\"20a\",\n",
    "    ) as ax:\n",
    "        sns.move_legend(\n",
    "            ax, \"lower center\",\n",
    "            bbox_to_anchor=(.45, 1),\n",
    "            ncol=2,\n",
    "            title=None,\n",
    "            frameon=False,\n",
    "            fontsize=\"large\",\n",
    "        )\n",
    "        ax.set_xlabel(\"Time ($T$)\")\n",
    "        ax.set_ylabel(\"Gap Size Ratio\\n($\\\\mathsf{cost\\_tilted}$)\")\n"
   ]
  }
 ],
 "metadata": {
  "kernelspec": {
   "display_name": "Python 3",
   "language": "python",
   "name": "python3"
  },
  "language_info": {
   "codemirror_mode": {
    "name": "ipython",
    "version": 3
   },
   "file_extension": ".py",
   "mimetype": "text/x-python",
   "name": "python",
   "nbconvert_exporter": "python",
   "pygments_lexer": "ipython3"
  }
 },
 "nbformat": 4,
 "nbformat_minor": 5
}
