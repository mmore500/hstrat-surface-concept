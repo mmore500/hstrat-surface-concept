{
 "cells": [
  {
   "cell_type": "code",
   "execution_count": null,
   "metadata": {},
   "outputs": [],
   "source": [
    "from matplotlib import pyplot as plt\n",
    "from matplotlib.ticker import MultipleLocator as mpl_MultipleLocator\n",
    "\n",
    "from nbmetalog import nbmetalog as nbm\n",
    "import numpy as np\n",
    "import seaborn as sns\n",
    "from teeplot import teeplot as tp\n"
   ]
  },
  {
   "cell_type": "code",
   "execution_count": null,
   "metadata": {},
   "outputs": [],
   "source": [
    "nbm.print_metadata()\n"
   ]
  },
  {
   "cell_type": "code",
   "execution_count": null,
   "metadata": {},
   "outputs": [],
   "source": [
    "plt.rcParams.update(\n",
    "    {\n",
    "        \"figure.figsize\": (6, 0.3),\n",
    "    },\n",
    ")\n"
   ]
  },
  {
   "cell_type": "code",
   "execution_count": null,
   "metadata": {},
   "outputs": [],
   "source": [
    "def rugplot(\n",
    "    data: np.ndarray, **kwargs\n",
    ") -> plt.Axes:\n",
    "    ax = sns.rugplot(\n",
    "        data=data,\n",
    "        **{\n",
    "            \"color\": \"green\",\n",
    "            \"height\": 1.0,\n",
    "            \"linewidth\": 2,\n",
    "            **kwargs,\n",
    "        },\n",
    "    )\n",
    "    ax.xaxis.set_major_locator(mpl_MultipleLocator(16))\n",
    "    ax.xaxis.set_minor_locator(mpl_MultipleLocator(8))\n",
    "    ax.spines[[\"right\", \"top\", \"left\"]].set_visible(False)\n",
    "    ax.set_yticks([])\n",
    "    ax.set_xlabel(\"index\")\n",
    "\n",
    "    sns.rugplot(data=[0, 100], ax=ax, alpha=0.0)\n",
    "\n",
    "    return ax\n"
   ]
  },
  {
   "cell_type": "code",
   "execution_count": null,
   "metadata": {},
   "outputs": [],
   "source": [
    "for stop in 50, 100:\n",
    "    tp.tee(\n",
    "        rugplot,\n",
    "        np.linspace(0, stop, 12, endpoint=True, dtype=int),\n",
    "        teeplot_outattrs={\n",
    "            \"criterion\": \"steady\",\n",
    "            \"stop\": stop,\n",
    "        },\n",
    "        teeplot_subdir=\"coverage-criteria\",\n",
    "    )\n"
   ]
  },
  {
   "cell_type": "code",
   "execution_count": null,
   "metadata": {},
   "outputs": [],
   "source": [
    "for stop in 51, 100:\n",
    "    tp.tee(\n",
    "        rugplot,\n",
    "        np.geomspace(1, stop + 1, 12, endpoint=True, dtype=int) - 1,\n",
    "        teeplot_outattrs={\n",
    "            \"criterion\": \"stretched\",\n",
    "            \"stop\": stop,\n",
    "        },\n",
    "        teeplot_subdir=\"coverage-criteria\",\n",
    "    )\n"
   ]
  },
  {
   "cell_type": "code",
   "execution_count": null,
   "metadata": {},
   "outputs": [],
   "source": [
    "for stop in 51, 100:\n",
    "    tp.tee(\n",
    "        rugplot,\n",
    "        stop + 1 - np.geomspace(1, stop + 1, 12, endpoint=True, dtype=int),\n",
    "        teeplot_outattrs={\n",
    "            \"criterion\": \"tilted\",\n",
    "            \"stop\": stop,\n",
    "        },\n",
    "        teeplot_subdir=\"coverage-criteria\",\n",
    "    )\n"
   ]
  }
 ],
 "metadata": {
  "kernelspec": {
   "display_name": "Python 3",
   "language": "python",
   "name": "python3"
  },
  "language_info": {
   "codemirror_mode": {
    "name": "ipython",
    "version": 3
   },
   "file_extension": ".py",
   "mimetype": "text/x-python",
   "name": "python",
   "nbconvert_exporter": "python",
   "pygments_lexer": "ipython3"
  }
 },
 "nbformat": 4,
 "nbformat_minor": 2
}
