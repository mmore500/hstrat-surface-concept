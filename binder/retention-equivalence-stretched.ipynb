{
 "cells": [
  {
   "cell_type": "code",
   "execution_count": null,
   "metadata": {},
   "outputs": [],
   "source": [
    "import itertools as it\n",
    "import typing\n",
    "\n",
    "from nbmetalog import nbmetalog as nbm\n",
    "from matplotlib import pyplot as plt\n",
    "import seaborn as sns\n",
    "from tqdm import tqdm\n",
    "\n",
    "from pylib import hanoi\n"
   ]
  },
  {
   "cell_type": "code",
   "execution_count": null,
   "metadata": {},
   "outputs": [],
   "source": [
    "nbm.print_metadata()\n"
   ]
  },
  {
   "cell_type": "markdown",
   "metadata": {},
   "source": [
    "## Define Set Construction\n"
   ]
  },
  {
   "cell_type": "code",
   "execution_count": null,
   "metadata": {},
   "outputs": [],
   "source": [
    "def filter_retained(reserved_per_hanoi: int, cur_time: int) -> typing.Set[int]:\n",
    "    n = reserved_per_hanoi\n",
    "    T = cur_time\n",
    "    return {\n",
    "        t\n",
    "        for t in range(T + 1)\n",
    "        if hanoi.get_hanoi_value_incidence_at_index(t) < n\n",
    "    }\n"
   ]
  },
  {
   "cell_type": "code",
   "execution_count": null,
   "metadata": {},
   "outputs": [],
   "source": [
    "def construct_retained_abstracted(\n",
    "    reserved_per_hanoi: int, cur_time: int\n",
    ") -> typing.Set[int]:\n",
    "    n = reserved_per_hanoi\n",
    "    T = cur_time\n",
    "    generator = filter(\n",
    "        lambda t: t <= T,\n",
    "        (\n",
    "            hanoi.get_hanoi_value_index_cadence(h) * i\n",
    "            + hanoi.get_hanoi_value_index_offset(h)\n",
    "            for h in range(hanoi.get_max_hanoi_value_through_index(T) + 1)\n",
    "            for i in range(n)\n",
    "        ),\n",
    "    )\n",
    "    return set(generator)\n"
   ]
  },
  {
   "cell_type": "code",
   "execution_count": null,
   "metadata": {},
   "outputs": [],
   "source": [
    "def construct_retained_naive(\n",
    "    reserved_per_hanoi: int, cur_time: int\n",
    ") -> typing.Set[int]:\n",
    "    n = reserved_per_hanoi\n",
    "    T = cur_time\n",
    "    generator = filter(\n",
    "        lambda t: t <= T,\n",
    "        (\n",
    "            2 ** (h + 1) * i + 2**h - 1\n",
    "            for h in range(hanoi.get_max_hanoi_value_through_index(T) + 1)\n",
    "            for i in range(n)\n",
    "        ),\n",
    "    )\n",
    "    return set(generator)\n"
   ]
  },
  {
   "cell_type": "code",
   "execution_count": null,
   "metadata": {},
   "outputs": [],
   "source": [
    "def construct_retained_distilled(\n",
    "    reserved_per_hanoi: int, cur_time: int\n",
    ") -> typing.Set[int]:\n",
    "    n = reserved_per_hanoi\n",
    "    T = cur_time\n",
    "    generator = filter(\n",
    "        lambda t: t <= T,\n",
    "        (\n",
    "            i * 2**h - 1\n",
    "            for h in range(hanoi.get_max_hanoi_value_through_index(T) + 1)\n",
    "            for i in range(1, 2 * n + 1)\n",
    "        ),\n",
    "    )\n",
    "    return set(generator)\n"
   ]
  },
  {
   "cell_type": "markdown",
   "metadata": {},
   "source": [
    "## Visualize Constructed Sets\n"
   ]
  },
  {
   "cell_type": "code",
   "execution_count": null,
   "metadata": {},
   "outputs": [],
   "source": [
    "def plot_retained(retained: typing.Set[int], T: int) -> plt.Axes:\n",
    "    ax = sns.rugplot(list(retained), height=1.0)\n",
    "    ax.figure.set_size_inches(7, 1)\n",
    "    ax.yaxis.set_visible(False)\n",
    "    ax.axvline(x=0, color=\"black\", linewidth=2, ls=\":\")\n",
    "    ax.set_xlim(-1, T + 1)\n",
    "    return ax\n"
   ]
  },
  {
   "cell_type": "code",
   "execution_count": null,
   "metadata": {},
   "outputs": [],
   "source": [
    "for n, T in [(1, 87), (5, 128), (3, 17), (4, 70)]:\n",
    "    retained = filter_retained(n, T)\n",
    "    plot_retained(retained, T)\n",
    "    plt.show()\n",
    "    print(f\"n={n}, T={T}, len(retained)={len(retained)}\")\n",
    "    print(sorted(retained))\n",
    "    print()\n"
   ]
  },
  {
   "cell_type": "markdown",
   "metadata": {},
   "source": [
    "## Test Set Construction Equivalence\n"
   ]
  },
  {
   "cell_type": "code",
   "execution_count": null,
   "metadata": {},
   "outputs": [],
   "source": [
    "for n, T in tqdm(\n",
    "    it.product(\n",
    "        range(100),\n",
    "        range(100),\n",
    "    ),\n",
    "    total=100 * 100,\n",
    "):\n",
    "    assert (\n",
    "        filter_retained(n, T)\n",
    "        == construct_retained_abstracted(n, T)\n",
    "        == construct_retained_naive(n, T)\n",
    "        == construct_retained_distilled(n, T)\n",
    "    )\n"
   ]
  }
 ],
 "metadata": {
  "kernelspec": {
   "display_name": "Python 3",
   "language": "python",
   "name": "python3"
  },
  "language_info": {
   "codemirror_mode": {
    "name": "ipython",
    "version": 3
   },
   "file_extension": ".py",
   "mimetype": "text/x-python",
   "name": "python",
   "nbconvert_exporter": "python",
   "pygments_lexer": "ipython3"
  }
 },
 "nbformat": 4,
 "nbformat_minor": 2
}
