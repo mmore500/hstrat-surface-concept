{
 "cells": [
  {
   "cell_type": "code",
   "execution_count": null,
   "metadata": {},
   "outputs": [],
   "source": [
    "import itertools as it\n",
    "import typing\n",
    "\n",
    "from nbmetalog import nbmetalog as nbm\n",
    "import numpy as np\n",
    "from matplotlib import pyplot as plt\n",
    "import seaborn as sns\n",
    "from tqdm import tqdm\n",
    "\n",
    "from pylib import hanoi\n"
   ]
  },
  {
   "cell_type": "code",
   "execution_count": null,
   "metadata": {},
   "outputs": [],
   "source": [
    "nbm.print_metadata()\n"
   ]
  },
  {
   "cell_type": "markdown",
   "metadata": {},
   "source": [
    "## Define Set Construction\n"
   ]
  },
  {
   "cell_type": "code",
   "execution_count": null,
   "metadata": {},
   "outputs": [],
   "source": [
    "def filter_retained(reserved_per_hanoi: int, cur_time: int) -> typing.Set[int]:\n",
    "    n = int(reserved_per_hanoi)  # handle numpy dtypes...\n",
    "    T = int(cur_time)\n",
    "    return {\n",
    "        t\n",
    "        for t in range(T + 1)\n",
    "        if hanoi.get_incidence_count_of_hanoi_value_through_index(\n",
    "            hanoi.get_hanoi_value_at_index(t), T\n",
    "        )\n",
    "        - 1\n",
    "        - hanoi.get_hanoi_value_incidence_at_index(t)\n",
    "        < n\n",
    "    }\n"
   ]
  },
  {
   "cell_type": "code",
   "execution_count": null,
   "metadata": {},
   "outputs": [],
   "source": [
    "def construct_retained_abstracted(\n",
    "    reserved_per_hanoi: int, cur_time: int\n",
    ") -> typing.Set[int]:\n",
    "    n = int(reserved_per_hanoi)  # handle numpy dtypes...\n",
    "    T = int(cur_time)\n",
    "    generator = filter(\n",
    "        lambda t: t >= 0,\n",
    "        (\n",
    "            hanoi.get_hanoi_value_index_cadence(h)\n",
    "            * (\n",
    "                (T - hanoi.get_hanoi_value_index_offset(h))\n",
    "                // hanoi.get_hanoi_value_index_cadence(h)\n",
    "                - i\n",
    "            )\n",
    "            + hanoi.get_hanoi_value_index_offset(h)\n",
    "            for h in range(hanoi.get_max_hanoi_value_through_index(T) + 1)\n",
    "            for i in range(n)\n",
    "        ),\n",
    "    )\n",
    "    return set(generator)\n"
   ]
  },
  {
   "cell_type": "code",
   "execution_count": null,
   "metadata": {},
   "outputs": [],
   "source": [
    "def construct_retained_naive(\n",
    "    reserved_per_hanoi: int, cur_time: int\n",
    ") -> typing.Set[int]:\n",
    "    n = int(reserved_per_hanoi)  # handle numpy dtypes...\n",
    "    T = int(cur_time)\n",
    "    generator = filter(\n",
    "        lambda t: t >= 0,\n",
    "        (\n",
    "            2 ** (h + 1) * ((T - 2**h + 1) // 2 ** (h + 1) - i) + 2**h - 1\n",
    "            for h in range(hanoi.get_max_hanoi_value_through_index(T) + 1)\n",
    "            for i in range(n)\n",
    "        ),\n",
    "    )\n",
    "    return set(generator)\n"
   ]
  },
  {
   "cell_type": "code",
   "execution_count": null,
   "metadata": {},
   "outputs": [],
   "source": [
    "def construct_retained_distilled(\n",
    "    reserved_per_hanoi: int, cur_time: int\n",
    ") -> typing.Set[int]:\n",
    "    n = int(reserved_per_hanoi)  # handle numpy dtypes...\n",
    "    T = int(cur_time)\n",
    "    generator = filter(\n",
    "        lambda t: t >= 0,\n",
    "        (\n",
    "            2**h * ((T + 1) // 2**h - i) - 1\n",
    "            for h in range(hanoi.get_max_hanoi_value_through_index(T) + 1)\n",
    "            for i in range(2 * n)\n",
    "        ),\n",
    "    )\n",
    "    return set(generator)\n"
   ]
  },
  {
   "cell_type": "code",
   "execution_count": null,
   "metadata": {},
   "outputs": [],
   "source": [
    "def calc_distilled2naive(h: int, i: int, T: int, n: int) -> int:\n",
    "    distilled = 2**h * ((T + 1) // 2**h - i) - 1\n",
    "    if distilled < 0 or distilled > T:\n",
    "        return -1\n",
    "\n",
    "    H = hanoi.get_hanoi_value_at_index(distilled)\n",
    "    assert H >= h\n",
    "\n",
    "    Z = ((T - 2**H + 1) // 2 ** (h)) / 2 ** (H + 1 - h) - (\n",
    "        (T - 2**H + 1) // 2 ** (H + 1)\n",
    "    )\n",
    "    assert 0 <= Z < 1\n",
    "\n",
    "    assert (Z - i / 2 ** (H - h + 1)).is_integer()\n",
    "    assert 0 <= -(Z - i / 2 ** (H - h + 1)) < n\n",
    "\n",
    "    return (\n",
    "        2 ** (H + 1)\n",
    "        * (((T - 2**H + 1) // 2 ** (H + 1)) + Z - i / 2 ** (H - h + 1))\n",
    "        + 2**H\n",
    "        - 1\n",
    "    )\n",
    "\n",
    "\n",
    "def construct_retained_distilled2naive(\n",
    "    reserved_per_hanoi: int, cur_time: int\n",
    ") -> typing.Set[int]:\n",
    "    n = int(reserved_per_hanoi)  # handle numpy dtypes...\n",
    "    T = int(cur_time)\n",
    "    generator = filter(\n",
    "        lambda t: t >= 0 and t <= T,\n",
    "        (\n",
    "            calc_distilled2naive(h, i, T, n)\n",
    "            for h in range(hanoi.get_max_hanoi_value_through_index(T) + 1)\n",
    "            for i in range(2 * n)\n",
    "        ),\n",
    "    )\n",
    "    return set(generator)\n"
   ]
  },
  {
   "cell_type": "markdown",
   "metadata": {},
   "source": [
    "## Visualize Constructed Sets\n"
   ]
  },
  {
   "cell_type": "code",
   "execution_count": null,
   "metadata": {},
   "outputs": [],
   "source": [
    "def plot_retained(retained: typing.Set[int], T: int) -> plt.Axes:\n",
    "    ax = sns.rugplot(list(retained), height=1.0)\n",
    "    ax.figure.set_size_inches(7, 1)\n",
    "    ax.yaxis.set_visible(False)\n",
    "    ax.axvline(x=T, color=\"black\", linewidth=2, ls=\":\")\n",
    "    ax.set_xlim(-1, T + 1)\n",
    "    return ax\n"
   ]
  },
  {
   "cell_type": "code",
   "execution_count": null,
   "metadata": {},
   "outputs": [],
   "source": [
    "for n, T in [(1, 87), (5, 128), (3, 17), (4, 70)]:\n",
    "    retained = construct_retained_distilled(n, T)\n",
    "    plot_retained(retained, T)\n",
    "    plt.show()\n",
    "    print(f\"n={n}, T={T}, len(retained)={len(retained)}\")\n",
    "    print(sorted(retained))\n",
    "    print()\n"
   ]
  },
  {
   "cell_type": "markdown",
   "metadata": {},
   "source": [
    "## Test Set Construction Equivalence\n"
   ]
  },
  {
   "cell_type": "code",
   "execution_count": null,
   "metadata": {},
   "outputs": [],
   "source": [
    "for n, T in tqdm(\n",
    "    it.chain(\n",
    "        it.product(\n",
    "            range(100),\n",
    "            range(100),\n",
    "        ),\n",
    "        zip(\n",
    "            np.random.RandomState(seed=1).randint(500, size=2000),\n",
    "            np.random.RandomState(seed=1).randint(100, 10001, size=2000),\n",
    "        ),\n",
    "    ),\n",
    "    total=100 * 100 + 2000,\n",
    "):\n",
    "    assert (\n",
    "        filter_retained(n, T)\n",
    "        == construct_retained_abstracted(n, T)\n",
    "        == construct_retained_naive(n, T)\n",
    "        == construct_retained_distilled(n, T)\n",
    "        == construct_retained_distilled2naive(n, T)\n",
    "    )\n"
   ]
  }
 ],
 "metadata": {
  "kernelspec": {
   "display_name": "Python 3",
   "language": "python",
   "name": "python3"
  },
  "language_info": {
   "codemirror_mode": {
    "name": "ipython",
    "version": 3
   },
   "file_extension": ".py",
   "mimetype": "text/x-python",
   "name": "python",
   "nbconvert_exporter": "python",
   "pygments_lexer": "ipython3"
  }
 },
 "nbformat": 4,
 "nbformat_minor": 2
}
