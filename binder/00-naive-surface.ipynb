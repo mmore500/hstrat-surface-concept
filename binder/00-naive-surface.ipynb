{
 "cells": [
  {
   "cell_type": "code",
   "execution_count": null,
   "metadata": {},
   "outputs": [],
   "source": [
    "import copy\n",
    "import random\n",
    "\n",
    "from nbmetalog import nbmetalog as nbm\n",
    "import pandas as pd\n",
    "import seaborn as sns\n",
    "\n",
    "import pylib\n",
    "\n",
    "random.seed(1)\n"
   ]
  },
  {
   "cell_type": "code",
   "execution_count": null,
   "metadata": {},
   "outputs": [],
   "source": [
    "nbm.print_metadata()\n"
   ]
  },
  {
   "cell_type": "code",
   "execution_count": null,
   "metadata": {},
   "outputs": [],
   "source": [
    "def get_deposition_site_at_rank(rank: int) -> int:\n",
    "    return pylib.hanoi.get_hanoi_value_at_index(rank)\n"
   ]
  },
  {
   "cell_type": "code",
   "execution_count": null,
   "metadata": {},
   "outputs": [],
   "source": [
    "def get_deposition_rank_at_site(site: int, num_site_depositions: int) -> int:\n",
    "    if num_site_depositions == 0:\n",
    "        return 0\n",
    "\n",
    "    num_incidences = pylib.hanoi.get_incidence_count_of_hanoi_value_through_index(\n",
    "        site,\n",
    "        num_site_depositions - 1,\n",
    "    )\n",
    "    if num_incidences == 0:\n",
    "        return 0\n",
    "\n",
    "    return pylib.hanoi.get_index_of_hanoi_value_nth_incidence(site, num_incidences - 1)\n"
   ]
  },
  {
   "cell_type": "code",
   "execution_count": null,
   "metadata": {},
   "outputs": [],
   "source": [
    "surface_size = 64\n",
    "num_generations = 1000\n",
    "\n",
    "surface_timestamps = [0] * surface_size\n",
    "surface_values = [random.choice([0, 1]) for __ in range(surface_size)]\n"
   ]
  },
  {
   "cell_type": "code",
   "execution_count": null,
   "metadata": {},
   "outputs": [],
   "source": [
    "surface_timestamps_records = []\n",
    "for generation in range(num_generations):\n",
    "    target_site = get_deposition_site_at_rank(generation)\n",
    "    surface_values[target_site] = random.choice([0, 1])\n",
    "    surface_timestamps[target_site] = generation\n",
    "\n",
    "    assert [\n",
    "        get_deposition_rank_at_site(site, generation + 1)\n",
    "        for site in range(surface_size)\n",
    "    ] == surface_timestamps\n",
    "\n",
    "    for site, timestamp in enumerate(surface_timestamps):\n",
    "        surface_timestamps_records.append(\n",
    "            {\n",
    "                \"generation\": generation,\n",
    "                \"site\": site,\n",
    "                \"timestamp\": timestamp,\n",
    "            }\n",
    "        )\n"
   ]
  },
  {
   "cell_type": "code",
   "execution_count": null,
   "metadata": {},
   "outputs": [],
   "source": [
    "surface_timestamps_df = pd.DataFrame.from_records(surface_timestamps_records)\n",
    "surface_timestamps_df\n"
   ]
  },
  {
   "cell_type": "code",
   "execution_count": null,
   "metadata": {},
   "outputs": [],
   "source": [
    "sns.scatterplot(\n",
    "    data=surface_timestamps_df,\n",
    "    x=\"generation\",\n",
    "    y=\"timestamp\",\n",
    "    hue=\"site\",\n",
    ")\n"
   ]
  },
  {
   "cell_type": "code",
   "execution_count": null,
   "metadata": {},
   "outputs": [],
   "source": [
    "sns.scatterplot(\n",
    "    data=surface_timestamps_df,\n",
    "    x=\"generation\",\n",
    "    y=\"site\",\n",
    "    hue=\"timestamp\",\n",
    ")\n"
   ]
  }
 ],
 "metadata": {
  "kernelspec": {
   "display_name": "Python 3",
   "language": "python",
   "name": "python3"
  },
  "language_info": {
   "codemirror_mode": {
    "name": "ipython",
    "version": 3
   },
   "file_extension": ".py",
   "mimetype": "text/x-python",
   "name": "python",
   "nbconvert_exporter": "python",
   "pygments_lexer": "ipython3"
  }
 },
 "nbformat": 4,
 "nbformat_minor": 5
}
