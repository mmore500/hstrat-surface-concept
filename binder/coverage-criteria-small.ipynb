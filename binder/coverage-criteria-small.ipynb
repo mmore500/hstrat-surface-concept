{
 "cells": [
  {
   "cell_type": "code",
   "execution_count": 1,
   "metadata": {
    "execution": {
     "iopub.execute_input": "2025-08-03T00:27:36.535263Z",
     "iopub.status.busy": "2025-08-03T00:27:36.535077Z",
     "iopub.status.idle": "2025-08-03T00:27:40.810304Z",
     "shell.execute_reply": "2025-08-03T00:27:40.809738Z"
    }
   },
   "outputs": [],
   "source": [
    "import matplotlib as mpl\n",
    "from matplotlib import pyplot as plt\n",
    "from matplotlib.ticker import MultipleLocator as mpl_MultipleLocator\n",
    "\n",
    "from nbmetalog import nbmetalog as nbm\n",
    "import numpy as np\n",
    "import seaborn as sns\n",
    "from teeplot import teeplot as tp\n"
   ]
  },
  {
   "cell_type": "code",
   "execution_count": 2,
   "metadata": {
    "execution": {
     "iopub.execute_input": "2025-08-03T00:27:40.812544Z",
     "iopub.status.busy": "2025-08-03T00:27:40.812255Z",
     "iopub.status.idle": "2025-08-03T00:27:41.064084Z",
     "shell.execute_reply": "2025-08-03T00:27:41.063401Z"
    }
   },
   "outputs": [
    {
     "name": "stdout",
     "output_type": "stream",
     "text": [
      "context: ci\n",
      "hostname: pkrvm76nib4usnx\n",
      "interpreter: 3.10.12 (main, May 27 2025, 17:12:29) [GCC 11.4.0]\n",
      "nbcellexec: null\n",
      "nbname: coverage-criteria-small\n",
      "nbpath: /home/runner/work/hstrat-surface-concept/hstrat-surface-concept/binder/coverage-criteria-small.ipynb\n",
      "revision: null\n",
      "session: ea41fe20-b13a-4771-af71-524a4a3e5569\n",
      "timestamp: 2025-08-03T00:27:40Z00:00\n",
      "\n",
      "\n",
      "IPython==7.31.1\n",
      "keyname==0.6.0\n",
      "yaml==6.0.2\n",
      "matplotlib==3.8.3\n",
      "nbmetalog==0.2.6\n",
      "numpy==1.23.5\n",
      "seaborn==0.13.2\n",
      "teeplot==__version__ = '1.4.2'\n",
      "re==2.2.1\n",
      "comm==0.2.2\n",
      "logging==0.5.1.2\n",
      "psutil==7.0.0\n",
      "zmq==27.0.0\n",
      "json==2.0.9\n",
      "ipykernel==6.29.5\n"
     ]
    }
   ],
   "source": [
    "nbm.print_metadata()\n"
   ]
  },
  {
   "cell_type": "code",
   "execution_count": 3,
   "metadata": {
    "execution": {
     "iopub.execute_input": "2025-08-03T00:27:41.093901Z",
     "iopub.status.busy": "2025-08-03T00:27:41.093614Z",
     "iopub.status.idle": "2025-08-03T00:27:41.096680Z",
     "shell.execute_reply": "2025-08-03T00:27:41.096194Z"
    }
   },
   "outputs": [],
   "source": [
    "plt.rcParams.update(\n",
    "    {\n",
    "        \"figure.figsize\": (4 / 1.5, 0.3 / 1.5),\n",
    "    },\n",
    ")\n"
   ]
  },
  {
   "cell_type": "code",
   "execution_count": 4,
   "metadata": {
    "execution": {
     "iopub.execute_input": "2025-08-03T00:27:41.098371Z",
     "iopub.status.busy": "2025-08-03T00:27:41.098189Z",
     "iopub.status.idle": "2025-08-03T00:27:41.102997Z",
     "shell.execute_reply": "2025-08-03T00:27:41.102483Z"
    }
   },
   "outputs": [],
   "source": [
    "def rugplot(\n",
    "    data: np.ndarray,\n",
    "    stop: int,\n",
    "    **kwargs,\n",
    ") -> plt.Axes:\n",
    "    ax = sns.rugplot(\n",
    "        data=data,\n",
    "        **{\n",
    "            \"color\": \"green\",\n",
    "            \"height\": 1.0,\n",
    "            \"linewidth\": 1.5,\n",
    "            **kwargs,\n",
    "        },\n",
    "    )\n",
    "    # ax.xaxis.set_major_locator(mpl_MultipleLocator(16))\n",
    "    # ax.xaxis.set_minor_locator(mpl_MultipleLocator(8))\n",
    "    ax.spines[[\"right\", \"top\", \"left\"]].set_visible(False)\n",
    "    ax.set_yticks([])\n",
    "    ax.set_xlabel(\"Time ($T$)\", labelpad=0)\n",
    "\n",
    "    sns.rugplot(data=[0, 100], ax=ax, alpha=0.0)\n",
    "    ax.axvspan(0, stop, facecolor=\"lime\", alpha=0.08, clip_on=False)\n",
    "\n",
    "    # xlim, ylim = ax.get_xlim(), ax.get_ylim()\n",
    "    # ax.plot(\n",
    "    #     [0, stop],\n",
    "    #     [4, 4],\n",
    "    #     \"-k\",\n",
    "    #     linewidth=1,\n",
    "    #     marker=\"|\",\n",
    "    #     markersize=10,\n",
    "    #     markevery=[0, -1],\n",
    "    #     clip_on=False,\n",
    "    # )\n",
    "    # ax.set_xlim(xlim)\n",
    "    # ax.set_ylim(ylim)\n",
    "\n",
    "    ax.set_xticks([0, stop])\n",
    "    ax.set_xticks(np.arange(0, stop, 5), minor=True)\n",
    "    ax.set_xticklabels([0, stop])\n",
    "    ax.tick_params(axis=\"x\", which=\"major\", width=1, length=6)\n",
    "    ax.tick_params(axis=\"x\", which=\"minor\", width=1, length=3)\n",
    "\n",
    "    return ax\n"
   ]
  },
  {
   "cell_type": "code",
   "execution_count": 5,
   "metadata": {
    "execution": {
     "iopub.execute_input": "2025-08-03T00:27:41.104657Z",
     "iopub.status.busy": "2025-08-03T00:27:41.104471Z",
     "iopub.status.idle": "2025-08-03T00:27:42.889126Z",
     "shell.execute_reply": "2025-08-03T00:27:42.888445Z"
    }
   },
   "outputs": [
    {
     "name": "stdout",
     "output_type": "stream",
     "text": [
      "teeplots/coverage-criteria-small/criterion=steady+stop=50+viz=rugplot+ext=.pdf\n",
      "teeplots/coverage-criteria-small/criterion=steady+stop=50+viz=rugplot+ext=.png\n"
     ]
    },
    {
     "data": {
      "image/png": "[encoded data removed]",
      "text/plain": [
       "<Figure size 266.667x20 with 1 Axes>"
      ]
     },
     "metadata": {},
     "output_type": "display_data"
    },
    {
     "name": "stdout",
     "output_type": "stream",
     "text": [
      "teeplots/coverage-criteria-small/criterion=steady+font.family=serif+stop=50+viz=rugplot+ext=.pdf\n",
      "teeplots/coverage-criteria-small/criterion=steady+font.family=serif+stop=50+viz=rugplot+ext=.png\n"
     ]
    },
    {
     "data": {
      "image/png": "[encoded data removed]",
      "text/plain": [
       "<Figure size 266.667x20 with 1 Axes>"
      ]
     },
     "metadata": {},
     "output_type": "display_data"
    },
    {
     "name": "stdout",
     "output_type": "stream",
     "text": [
      "teeplots/coverage-criteria-small/criterion=steady+stop=100+viz=rugplot+ext=.pdf\n",
      "teeplots/coverage-criteria-small/criterion=steady+stop=100+viz=rugplot+ext=.png\n"
     ]
    },
    {
     "data": {
      "image/png": "[encoded data removed]",
      "text/plain": [
       "<Figure size 266.667x20 with 1 Axes>"
      ]
     },
     "metadata": {},
     "output_type": "display_data"
    },
    {
     "name": "stdout",
     "output_type": "stream",
     "text": [
      "teeplots/coverage-criteria-small/criterion=steady+font.family=serif+stop=100+viz=rugplot+ext=.pdf\n",
      "teeplots/coverage-criteria-small/criterion=steady+font.family=serif+stop=100+viz=rugplot+ext=.png\n"
     ]
    },
    {
     "data": {
      "image/png": "[encoded data removed]",
      "text/plain": [
       "<Figure size 266.667x20 with 1 Axes>"
      ]
     },
     "metadata": {},
     "output_type": "display_data"
    }
   ],
   "source": [
    "for stop in 50, 100:\n",
    "    for rc in [{}, {\"font.family\": \"serif\"}]:\n",
    "        with mpl.rc_context(rc=rc):\n",
    "            tp.tee(\n",
    "                rugplot,\n",
    "                np.linspace(0, stop, 12, endpoint=True, dtype=int),\n",
    "                stop=stop,\n",
    "                teeplot_outattrs={\n",
    "                    \"criterion\": \"steady\",\n",
    "                    \"stop\": stop,\n",
    "                    **rc,\n",
    "                },\n",
    "                teeplot_subdir=\"coverage-criteria-small\",\n",
    "            )\n"
   ]
  },
  {
   "cell_type": "code",
   "execution_count": 6,
   "metadata": {
    "execution": {
     "iopub.execute_input": "2025-08-03T00:27:42.891631Z",
     "iopub.status.busy": "2025-08-03T00:27:42.891220Z",
     "iopub.status.idle": "2025-08-03T00:27:44.151404Z",
     "shell.execute_reply": "2025-08-03T00:27:44.150961Z"
    }
   },
   "outputs": [
    {
     "name": "stdout",
     "output_type": "stream",
     "text": [
      "teeplots/coverage-criteria-small/criterion=stretched+stop=50+viz=rugplot+ext=.pdf\n",
      "teeplots/coverage-criteria-small/criterion=stretched+stop=50+viz=rugplot+ext=.png\n"
     ]
    },
    {
     "data": {
      "image/png": "[encoded data removed]",
      "text/plain": [
       "<Figure size 266.667x20 with 1 Axes>"
      ]
     },
     "metadata": {},
     "output_type": "display_data"
    },
    {
     "name": "stdout",
     "output_type": "stream",
     "text": [
      "teeplots/coverage-criteria-small/criterion=stretched+font.family=serif+stop=50+viz=rugplot+ext=.pdf\n",
      "teeplots/coverage-criteria-small/criterion=stretched+font.family=serif+stop=50+viz=rugplot+ext=.png\n"
     ]
    },
    {
     "data": {
      "image/png": "[encoded data removed]",
      "text/plain": [
       "<Figure size 266.667x20 with 1 Axes>"
      ]
     },
     "metadata": {},
     "output_type": "display_data"
    },
    {
     "name": "stdout",
     "output_type": "stream",
     "text": [
      "teeplots/coverage-criteria-small/criterion=stretched+stop=100+viz=rugplot+ext=.pdf\n",
      "teeplots/coverage-criteria-small/criterion=stretched+stop=100+viz=rugplot+ext=.png\n"
     ]
    },
    {
     "data": {
      "image/png": "[encoded data removed]",
      "text/plain": [
       "<Figure size 266.667x20 with 1 Axes>"
      ]
     },
     "metadata": {},
     "output_type": "display_data"
    },
    {
     "name": "stdout",
     "output_type": "stream",
     "text": [
      "teeplots/coverage-criteria-small/criterion=stretched+font.family=serif+stop=100+viz=rugplot+ext=.pdf\n",
      "teeplots/coverage-criteria-small/criterion=stretched+font.family=serif+stop=100+viz=rugplot+ext=.png\n"
     ]
    },
    {
     "data": {
      "image/png": "[encoded data removed]",
      "text/plain": [
       "<Figure size 266.667x20 with 1 Axes>"
      ]
     },
     "metadata": {},
     "output_type": "display_data"
    }
   ],
   "source": [
    "for stop in 50, 100:\n",
    "    for rc in [{}, {\"font.family\": \"serif\"}]:\n",
    "        with mpl.rc_context(rc=rc):\n",
    "            tp.tee(\n",
    "                rugplot,\n",
    "                np.geomspace(1, stop + 1, 12, endpoint=True, dtype=int) - 1,\n",
    "                stop=stop,\n",
    "                teeplot_outattrs={\n",
    "                    \"criterion\": \"stretched\",\n",
    "                    \"stop\": stop,\n",
    "                    **rc,\n",
    "                },\n",
    "                teeplot_subdir=\"coverage-criteria-small\",\n",
    "            )\n"
   ]
  },
  {
   "cell_type": "code",
   "execution_count": 7,
   "metadata": {
    "execution": {
     "iopub.execute_input": "2025-08-03T00:27:44.153474Z",
     "iopub.status.busy": "2025-08-03T00:27:44.153281Z",
     "iopub.status.idle": "2025-08-03T00:27:45.436714Z",
     "shell.execute_reply": "2025-08-03T00:27:45.436173Z"
    }
   },
   "outputs": [
    {
     "name": "stdout",
     "output_type": "stream",
     "text": [
      "teeplots/coverage-criteria-small/criterion=tilted+stop=50+viz=rugplot+ext=.pdf\n",
      "teeplots/coverage-criteria-small/criterion=tilted+stop=50+viz=rugplot+ext=.png\n"
     ]
    },
    {
     "data": {
      "image/png": "[encoded data removed]",
      "text/plain": [
       "<Figure size 266.667x20 with 1 Axes>"
      ]
     },
     "metadata": {},
     "output_type": "display_data"
    },
    {
     "name": "stdout",
     "output_type": "stream",
     "text": [
      "teeplots/coverage-criteria-small/criterion=tilted+font.family=serif+stop=50+viz=rugplot+ext=.pdf\n",
      "teeplots/coverage-criteria-small/criterion=tilted+font.family=serif+stop=50+viz=rugplot+ext=.png\n"
     ]
    },
    {
     "data": {
      "image/png": "[encoded data removed]",
      "text/plain": [
       "<Figure size 266.667x20 with 1 Axes>"
      ]
     },
     "metadata": {},
     "output_type": "display_data"
    },
    {
     "name": "stdout",
     "output_type": "stream",
     "text": [
      "teeplots/coverage-criteria-small/criterion=tilted+stop=100+viz=rugplot+ext=.pdf\n",
      "teeplots/coverage-criteria-small/criterion=tilted+stop=100+viz=rugplot+ext=.png\n"
     ]
    },
    {
     "data": {
      "image/png": "[encoded data removed]",
      "text/plain": [
       "<Figure size 266.667x20 with 1 Axes>"
      ]
     },
     "metadata": {},
     "output_type": "display_data"
    },
    {
     "name": "stdout",
     "output_type": "stream",
     "text": [
      "teeplots/coverage-criteria-small/criterion=tilted+font.family=serif+stop=100+viz=rugplot+ext=.pdf\n",
      "teeplots/coverage-criteria-small/criterion=tilted+font.family=serif+stop=100+viz=rugplot+ext=.png\n"
     ]
    },
    {
     "data": {
      "image/png": "[encoded data removed]",
      "text/plain": [
       "<Figure size 266.667x20 with 1 Axes>"
      ]
     },
     "metadata": {},
     "output_type": "display_data"
    }
   ],
   "source": [
    "for stop in 50, 100:\n",
    "    for rc in [{}, {\"font.family\": \"serif\"}]:\n",
    "        with mpl.rc_context(rc=rc):\n",
    "            tp.tee(\n",
    "                rugplot,\n",
    "                stop + 1 - np.geomspace(1, stop + 1, 12, endpoint=True, dtype=int),\n",
    "                stop=stop,\n",
    "                teeplot_outattrs={\n",
    "                    \"criterion\": \"tilted\",\n",
    "                    \"stop\": stop,\n",
    "                    **rc,\n",
    "                },\n",
    "                teeplot_subdir=\"coverage-criteria-small\",\n",
    "            )\n"
   ]
  }
 ],
 "metadata": {
  "kernelspec": {
   "display_name": "Python 3",
   "language": "python",
   "name": "python3"
  },
  "language_info": {
   "codemirror_mode": {
    "name": "ipython",
    "version": 3
   },
   "file_extension": ".py",
   "mimetype": "text/x-python",
   "name": "python",
   "nbconvert_exporter": "python",
   "pygments_lexer": "ipython3",
   "version": "3.10.12"
  }
 },
 "nbformat": 4,
 "nbformat_minor": 2
}
