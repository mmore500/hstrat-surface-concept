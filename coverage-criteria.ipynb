{
 "cells": [
  {
   "cell_type": "code",
   "execution_count": 1,
   "metadata": {
    "execution": {
     "iopub.execute_input": "2024-06-19T06:13:00.952414Z",
     "iopub.status.busy": "2024-06-19T06:13:00.951899Z",
     "iopub.status.idle": "2024-06-19T06:13:01.697233Z",
     "shell.execute_reply": "2024-06-19T06:13:01.696703Z"
    }
   },
   "outputs": [],
   "source": [
    "from matplotlib import pyplot as plt\n",
    "from matplotlib.ticker import MultipleLocator as mpl_MultipleLocator\n",
    "\n",
    "from nbmetalog import nbmetalog as nbm\n",
    "import numpy as np\n",
    "import seaborn as sns\n",
    "from teeplot import teeplot as tp\n"
   ]
  },
  {
   "cell_type": "code",
   "execution_count": 2,
   "metadata": {
    "execution": {
     "iopub.execute_input": "2024-06-19T06:13:01.700130Z",
     "iopub.status.busy": "2024-06-19T06:13:01.699621Z",
     "iopub.status.idle": "2024-06-19T06:13:01.895215Z",
     "shell.execute_reply": "2024-06-19T06:13:01.894551Z"
    }
   },
   "outputs": [
    {
     "name": "stdout",
     "output_type": "stream",
     "text": [
      "context: ci\n",
      "hostname: fv-az1200-716\n",
      "interpreter: 3.10.12 (main, Nov 20 2023, 15:14:05) [GCC 11.4.0]\n",
      "nbcellexec: null\n",
      "nbname: coverage-criteria\n",
      "nbpath: /home/runner/work/hstrat-surface-concept/hstrat-surface-concept/binder/coverage-criteria.ipynb\n",
      "revision: null\n",
      "session: 1b96c93e-13e2-485c-9933-a9609725472c\n",
      "timestamp: 2024-06-19T06:13:01Z00:00\n",
      "\n",
      "\n",
      "IPython==7.31.1\n",
      "keyname==0.5.2\n",
      "yaml==6.0\n",
      "matplotlib==3.8.3\n",
      "nbmetalog==0.2.6\n",
      "numpy==1.23.5\n",
      "seaborn==0.13.2\n",
      "teeplot==1.0.1\n",
      "re==2.2.1\n",
      "comm==0.1.3\n",
      "logging==0.5.1.2\n",
      "psutil==5.9.5\n",
      "zmq==25.1.0\n",
      "json==2.0.9\n",
      "ipykernel==6.23.3\n"
     ]
    }
   ],
   "source": [
    "nbm.print_metadata()\n"
   ]
  },
  {
   "cell_type": "code",
   "execution_count": 3,
   "metadata": {
    "execution": {
     "iopub.execute_input": "2024-06-19T06:13:01.924322Z",
     "iopub.status.busy": "2024-06-19T06:13:01.923845Z",
     "iopub.status.idle": "2024-06-19T06:13:01.926983Z",
     "shell.execute_reply": "2024-06-19T06:13:01.926361Z"
    }
   },
   "outputs": [],
   "source": [
    "plt.rcParams.update(\n",
    "    {\n",
    "        \"figure.figsize\": (6, 0.3),\n",
    "    },\n",
    ")\n"
   ]
  },
  {
   "cell_type": "code",
   "execution_count": 4,
   "metadata": {
    "execution": {
     "iopub.execute_input": "2024-06-19T06:13:01.929158Z",
     "iopub.status.busy": "2024-06-19T06:13:01.928853Z",
     "iopub.status.idle": "2024-06-19T06:13:01.932658Z",
     "shell.execute_reply": "2024-06-19T06:13:01.932098Z"
    }
   },
   "outputs": [],
   "source": [
    "def rugplot(\n",
    "    data: np.ndarray, **kwargs\n",
    ") -> plt.Axes:\n",
    "    ax = sns.rugplot(\n",
    "        data=data,\n",
    "        **{\n",
    "            \"color\": \"green\",\n",
    "            \"height\": 1.0,\n",
    "            \"linewidth\": 2,\n",
    "            **kwargs,\n",
    "        },\n",
    "    )\n",
    "    ax.xaxis.set_major_locator(mpl_MultipleLocator(16))\n",
    "    ax.xaxis.set_minor_locator(mpl_MultipleLocator(8))\n",
    "    ax.spines[[\"right\", \"top\", \"left\"]].set_visible(False)\n",
    "    ax.set_yticks([])\n",
    "    ax.set_xlabel(\"index\")\n",
    "\n",
    "    sns.rugplot(data=[0, 100], ax=ax, alpha=0.0)\n",
    "\n",
    "    return ax\n"
   ]
  },
  {
   "cell_type": "code",
   "execution_count": 5,
   "metadata": {
    "execution": {
     "iopub.execute_input": "2024-06-19T06:13:01.934670Z",
     "iopub.status.busy": "2024-06-19T06:13:01.934370Z",
     "iopub.status.idle": "2024-06-19T06:13:02.679812Z",
     "shell.execute_reply": "2024-06-19T06:13:02.679205Z"
    }
   },
   "outputs": [
    {
     "name": "stdout",
     "output_type": "stream",
     "text": [
      "teeplots/coverage-criteria/criterion=steady+stop=50+viz=rugplot+ext=.pdf\n",
      "teeplots/coverage-criteria/criterion=steady+stop=50+viz=rugplot+ext=.png\n"
     ]
    },
    {
     "data": {
      "image/png": "[encoded data removed]",
      "text/plain": [
       "<Figure size 600x30 with 1 Axes>"
      ]
     },
     "metadata": {},
     "output_type": "display_data"
    },
    {
     "name": "stdout",
     "output_type": "stream",
     "text": [
      "teeplots/coverage-criteria/criterion=steady+stop=100+viz=rugplot+ext=.pdf\n",
      "teeplots/coverage-criteria/criterion=steady+stop=100+viz=rugplot+ext=.png\n"
     ]
    },
    {
     "data": {
      "image/png": "[encoded data removed]",
      "text/plain": [
       "<Figure size 600x30 with 1 Axes>"
      ]
     },
     "metadata": {},
     "output_type": "display_data"
    }
   ],
   "source": [
    "for stop in 50, 100:\n",
    "    tp.tee(\n",
    "        rugplot,\n",
    "        np.linspace(0, stop, 12, endpoint=True, dtype=int),\n",
    "        teeplot_outattrs={\n",
    "            \"criterion\": \"steady\",\n",
    "            \"stop\": stop,\n",
    "        },\n",
    "        teeplot_subdir=\"coverage-criteria\",\n",
    "    )\n"
   ]
  },
  {
   "cell_type": "code",
   "execution_count": 6,
   "metadata": {
    "execution": {
     "iopub.execute_input": "2024-06-19T06:13:02.682556Z",
     "iopub.status.busy": "2024-06-19T06:13:02.682342Z",
     "iopub.status.idle": "2024-06-19T06:13:03.341449Z",
     "shell.execute_reply": "2024-06-19T06:13:03.340834Z"
    }
   },
   "outputs": [
    {
     "name": "stdout",
     "output_type": "stream",
     "text": [
      "teeplots/coverage-criteria/criterion=tilted+stop=51+viz=rugplot+ext=.pdf\n",
      "teeplots/coverage-criteria/criterion=tilted+stop=51+viz=rugplot+ext=.png\n"
     ]
    },
    {
     "data": {
      "image/png": "[encoded data removed]",
      "text/plain": [
       "<Figure size 600x30 with 1 Axes>"
      ]
     },
     "metadata": {},
     "output_type": "display_data"
    },
    {
     "name": "stdout",
     "output_type": "stream",
     "text": [
      "teeplots/coverage-criteria/criterion=tilted+stop=100+viz=rugplot+ext=.pdf\n",
      "teeplots/coverage-criteria/criterion=tilted+stop=100+viz=rugplot+ext=.png\n"
     ]
    },
    {
     "data": {
      "image/png": "[encoded data removed]",
      "text/plain": [
       "<Figure size 600x30 with 1 Axes>"
      ]
     },
     "metadata": {},
     "output_type": "display_data"
    }
   ],
   "source": [
    "for stop in 51, 100:\n",
    "    tp.tee(\n",
    "        rugplot,\n",
    "        np.geomspace(1, stop + 1, 12, endpoint=True, dtype=int) - 1,\n",
    "        teeplot_outattrs={\n",
    "            \"criterion\": \"tilted\",\n",
    "            \"stop\": stop,\n",
    "        },\n",
    "        teeplot_subdir=\"coverage-criteria\",\n",
    "    )\n"
   ]
  },
  {
   "cell_type": "code",
   "execution_count": 7,
   "metadata": {
    "execution": {
     "iopub.execute_input": "2024-06-19T06:13:03.344225Z",
     "iopub.status.busy": "2024-06-19T06:13:03.343996Z",
     "iopub.status.idle": "2024-06-19T06:13:04.000407Z",
     "shell.execute_reply": "2024-06-19T06:13:03.999855Z"
    }
   },
   "outputs": [
    {
     "name": "stdout",
     "output_type": "stream",
     "text": [
      "teeplots/coverage-criteria/criterion=stretched+stop=51+viz=rugplot+ext=.pdf\n",
      "teeplots/coverage-criteria/criterion=stretched+stop=51+viz=rugplot+ext=.png\n"
     ]
    },
    {
     "data": {
      "image/png": "[encoded data removed]",
      "text/plain": [
       "<Figure size 600x30 with 1 Axes>"
      ]
     },
     "metadata": {},
     "output_type": "display_data"
    },
    {
     "name": "stdout",
     "output_type": "stream",
     "text": [
      "teeplots/coverage-criteria/criterion=stretched+stop=100+viz=rugplot+ext=.pdf\n",
      "teeplots/coverage-criteria/criterion=stretched+stop=100+viz=rugplot+ext=.png\n"
     ]
    },
    {
     "data": {
      "image/png": "[encoded data removed]",
      "text/plain": [
       "<Figure size 600x30 with 1 Axes>"
      ]
     },
     "metadata": {},
     "output_type": "display_data"
    }
   ],
   "source": [
    "for stop in 51, 100:\n",
    "    tp.tee(\n",
    "        rugplot,\n",
    "        stop + 1 - np.geomspace(1, stop + 1, 12, endpoint=True, dtype=int),\n",
    "        teeplot_outattrs={\n",
    "            \"criterion\": \"stretched\",\n",
    "            \"stop\": stop,\n",
    "        },\n",
    "        teeplot_subdir=\"coverage-criteria\",\n",
    "    )\n"
   ]
  }
 ],
 "metadata": {
  "kernelspec": {
   "display_name": "Python 3",
   "language": "python",
   "name": "python3"
  },
  "language_info": {
   "codemirror_mode": {
    "name": "ipython",
    "version": 3
   },
   "file_extension": ".py",
   "mimetype": "text/x-python",
   "name": "python",
   "nbconvert_exporter": "python",
   "pygments_lexer": "ipython3",
   "version": "3.10.12"
  }
 },
 "nbformat": 4,
 "nbformat_minor": 2
}
