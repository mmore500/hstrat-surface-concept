{
 "cells": [
  {
   "cell_type": "code",
   "execution_count": 1,
   "metadata": {
    "execution": {
     "iopub.execute_input": "2024-08-18T02:48:15.256469Z",
     "iopub.status.busy": "2024-08-18T02:48:15.256075Z",
     "iopub.status.idle": "2024-08-18T02:48:15.469180Z",
     "shell.execute_reply": "2024-08-18T02:48:15.468526Z"
    }
   },
   "outputs": [],
   "source": [
    "import pandas as pd\n"
   ]
  },
  {
   "cell_type": "markdown",
   "metadata": {},
   "source": [
    "TODO\n"
   ]
  },
  {
   "cell_type": "code",
   "execution_count": 2,
   "metadata": {
    "execution": {
     "iopub.execute_input": "2024-08-18T02:48:15.472006Z",
     "iopub.status.busy": "2024-08-18T02:48:15.471604Z",
     "iopub.status.idle": "2024-08-18T02:48:15.474201Z",
     "shell.execute_reply": "2024-08-18T02:48:15.473708Z"
    }
   },
   "outputs": [],
   "source": [
    "# TODO\n"
   ]
  }
 ],
 "metadata": {
  "kernelspec": {
   "display_name": "Python 3",
   "language": "python",
   "name": "python3"
  },
  "language_info": {
   "codemirror_mode": {
    "name": "ipython",
    "version": 3
   },
   "file_extension": ".py",
   "mimetype": "text/x-python",
   "name": "python",
   "nbconvert_exporter": "python",
   "pygments_lexer": "ipython3",
   "version": "3.10.12"
  }
 },
 "nbformat": 4,
 "nbformat_minor": 4
}
