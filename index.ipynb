{
 "cells": [
  {
   "cell_type": "code",
   "execution_count": 1,
   "metadata": {
    "execution": {
     "iopub.execute_input": "2024-01-15T05:40:37.604624Z",
     "iopub.status.busy": "2024-01-15T05:40:37.604218Z",
     "iopub.status.idle": "2024-01-15T05:40:37.823396Z",
     "shell.execute_reply": "2024-01-15T05:40:37.822858Z"
    }
   },
   "outputs": [],
   "source": [
    "import pandas as pd\n"
   ]
  },
  {
   "cell_type": "markdown",
   "metadata": {},
   "source": [
    "TODO\n"
   ]
  },
  {
   "cell_type": "code",
   "execution_count": 2,
   "metadata": {
    "execution": {
     "iopub.execute_input": "2024-01-15T05:40:37.826294Z",
     "iopub.status.busy": "2024-01-15T05:40:37.825915Z",
     "iopub.status.idle": "2024-01-15T05:40:37.828745Z",
     "shell.execute_reply": "2024-01-15T05:40:37.828159Z"
    }
   },
   "outputs": [],
   "source": [
    "# TODO\n"
   ]
  }
 ],
 "metadata": {
  "kernelspec": {
   "display_name": "Python 3",
   "language": "python",
   "name": "python3"
  },
  "language_info": {
   "codemirror_mode": {
    "name": "ipython",
    "version": 3
   },
   "file_extension": ".py",
   "mimetype": "text/x-python",
   "name": "python",
   "nbconvert_exporter": "python",
   "pygments_lexer": "ipython3",
   "version": "3.10.12"
  }
 },
 "nbformat": 4,
 "nbformat_minor": 4
}
