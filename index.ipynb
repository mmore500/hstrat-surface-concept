{
 "cells": [
  {
   "cell_type": "code",
   "execution_count": 1,
   "metadata": {
    "execution": {
     "iopub.execute_input": "2024-10-04T18:22:58.962374Z",
     "iopub.status.busy": "2024-10-04T18:22:58.961970Z",
     "iopub.status.idle": "2024-10-04T18:22:59.791582Z",
     "shell.execute_reply": "2024-10-04T18:22:59.790986Z"
    }
   },
   "outputs": [],
   "source": [
    "import pandas as pd\n"
   ]
  },
  {
   "cell_type": "markdown",
   "metadata": {},
   "source": [
    "TODO\n"
   ]
  },
  {
   "cell_type": "code",
   "execution_count": 2,
   "metadata": {
    "execution": {
     "iopub.execute_input": "2024-10-04T18:22:59.794460Z",
     "iopub.status.busy": "2024-10-04T18:22:59.794019Z",
     "iopub.status.idle": "2024-10-04T18:22:59.796811Z",
     "shell.execute_reply": "2024-10-04T18:22:59.796302Z"
    }
   },
   "outputs": [],
   "source": [
    "# TODO\n"
   ]
  }
 ],
 "metadata": {
  "kernelspec": {
   "display_name": "Python 3",
   "language": "python",
   "name": "python3"
  },
  "language_info": {
   "codemirror_mode": {
    "name": "ipython",
    "version": 3
   },
   "file_extension": ".py",
   "mimetype": "text/x-python",
   "name": "python",
   "nbconvert_exporter": "python",
   "pygments_lexer": "ipython3",
   "version": "3.10.12"
  }
 },
 "nbformat": 4,
 "nbformat_minor": 4
}
