{
 "cells": [
  {
   "cell_type": "code",
   "execution_count": 1,
   "metadata": {
    "execution": {
     "iopub.execute_input": "2024-09-16T05:06:11.555345Z",
     "iopub.status.busy": "2024-09-16T05:06:11.555174Z",
     "iopub.status.idle": "2024-09-16T05:06:11.773132Z",
     "shell.execute_reply": "2024-09-16T05:06:11.772592Z"
    }
   },
   "outputs": [],
   "source": [
    "import pandas as pd\n"
   ]
  },
  {
   "cell_type": "markdown",
   "metadata": {},
   "source": [
    "TODO\n"
   ]
  },
  {
   "cell_type": "code",
   "execution_count": 2,
   "metadata": {
    "execution": {
     "iopub.execute_input": "2024-09-16T05:06:11.776026Z",
     "iopub.status.busy": "2024-09-16T05:06:11.775575Z",
     "iopub.status.idle": "2024-09-16T05:06:11.778359Z",
     "shell.execute_reply": "2024-09-16T05:06:11.777868Z"
    }
   },
   "outputs": [],
   "source": [
    "# TODO\n"
   ]
  }
 ],
 "metadata": {
  "kernelspec": {
   "display_name": "Python 3",
   "language": "python",
   "name": "python3"
  },
  "language_info": {
   "codemirror_mode": {
    "name": "ipython",
    "version": 3
   },
   "file_extension": ".py",
   "mimetype": "text/x-python",
   "name": "python",
   "nbconvert_exporter": "python",
   "pygments_lexer": "ipython3",
   "version": "3.10.12"
  }
 },
 "nbformat": 4,
 "nbformat_minor": 4
}
