{
 "cells": [
  {
   "cell_type": "code",
   "execution_count": 1,
   "metadata": {
    "execution": {
     "iopub.execute_input": "2024-06-25T00:00:12.116893Z",
     "iopub.status.busy": "2024-06-25T00:00:12.116481Z",
     "iopub.status.idle": "2024-06-25T00:00:12.344361Z",
     "shell.execute_reply": "2024-06-25T00:00:12.343811Z"
    }
   },
   "outputs": [],
   "source": [
    "import pandas as pd\n"
   ]
  },
  {
   "cell_type": "markdown",
   "metadata": {},
   "source": [
    "TODO\n"
   ]
  },
  {
   "cell_type": "code",
   "execution_count": 2,
   "metadata": {
    "execution": {
     "iopub.execute_input": "2024-06-25T00:00:12.347137Z",
     "iopub.status.busy": "2024-06-25T00:00:12.346895Z",
     "iopub.status.idle": "2024-06-25T00:00:12.349609Z",
     "shell.execute_reply": "2024-06-25T00:00:12.349118Z"
    }
   },
   "outputs": [],
   "source": [
    "# TODO\n"
   ]
  }
 ],
 "metadata": {
  "kernelspec": {
   "display_name": "Python 3",
   "language": "python",
   "name": "python3"
  },
  "language_info": {
   "codemirror_mode": {
    "name": "ipython",
    "version": 3
   },
   "file_extension": ".py",
   "mimetype": "text/x-python",
   "name": "python",
   "nbconvert_exporter": "python",
   "pygments_lexer": "ipython3",
   "version": "3.10.12"
  }
 },
 "nbformat": 4,
 "nbformat_minor": 4
}
