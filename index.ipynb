{
 "cells": [
  {
   "cell_type": "code",
   "execution_count": 1,
   "metadata": {
    "execution": {
     "iopub.execute_input": "2024-08-18T06:34:22.352420Z",
     "iopub.status.busy": "2024-08-18T06:34:22.352253Z",
     "iopub.status.idle": "2024-08-18T06:34:22.564053Z",
     "shell.execute_reply": "2024-08-18T06:34:22.563526Z"
    }
   },
   "outputs": [],
   "source": [
    "import pandas as pd\n"
   ]
  },
  {
   "cell_type": "markdown",
   "metadata": {},
   "source": [
    "TODO\n"
   ]
  },
  {
   "cell_type": "code",
   "execution_count": 2,
   "metadata": {
    "execution": {
     "iopub.execute_input": "2024-08-18T06:34:22.566917Z",
     "iopub.status.busy": "2024-08-18T06:34:22.566511Z",
     "iopub.status.idle": "2024-08-18T06:34:22.569226Z",
     "shell.execute_reply": "2024-08-18T06:34:22.568655Z"
    }
   },
   "outputs": [],
   "source": [
    "# TODO\n"
   ]
  }
 ],
 "metadata": {
  "kernelspec": {
   "display_name": "Python 3",
   "language": "python",
   "name": "python3"
  },
  "language_info": {
   "codemirror_mode": {
    "name": "ipython",
    "version": 3
   },
   "file_extension": ".py",
   "mimetype": "text/x-python",
   "name": "python",
   "nbconvert_exporter": "python",
   "pygments_lexer": "ipython3",
   "version": "3.10.12"
  }
 },
 "nbformat": 4,
 "nbformat_minor": 4
}
