{
 "cells": [
  {
   "cell_type": "code",
   "execution_count": 1,
   "metadata": {
    "execution": {
     "iopub.execute_input": "2024-08-11T07:05:49.932541Z",
     "iopub.status.busy": "2024-08-11T07:05:49.932145Z",
     "iopub.status.idle": "2024-08-11T07:05:50.142356Z",
     "shell.execute_reply": "2024-08-11T07:05:50.141845Z"
    }
   },
   "outputs": [],
   "source": [
    "import pandas as pd\n"
   ]
  },
  {
   "cell_type": "markdown",
   "metadata": {},
   "source": [
    "TODO\n"
   ]
  },
  {
   "cell_type": "code",
   "execution_count": 2,
   "metadata": {
    "execution": {
     "iopub.execute_input": "2024-08-11T07:05:50.145091Z",
     "iopub.status.busy": "2024-08-11T07:05:50.144687Z",
     "iopub.status.idle": "2024-08-11T07:05:50.147250Z",
     "shell.execute_reply": "2024-08-11T07:05:50.146744Z"
    }
   },
   "outputs": [],
   "source": [
    "# TODO\n"
   ]
  }
 ],
 "metadata": {
  "kernelspec": {
   "display_name": "Python 3",
   "language": "python",
   "name": "python3"
  },
  "language_info": {
   "codemirror_mode": {
    "name": "ipython",
    "version": 3
   },
   "file_extension": ".py",
   "mimetype": "text/x-python",
   "name": "python",
   "nbconvert_exporter": "python",
   "pygments_lexer": "ipython3",
   "version": "3.10.12"
  }
 },
 "nbformat": 4,
 "nbformat_minor": 4
}
