{
 "cells": [
  {
   "cell_type": "code",
   "execution_count": 1,
   "metadata": {
    "execution": {
     "iopub.execute_input": "2024-07-05T21:15:17.753524Z",
     "iopub.status.busy": "2024-07-05T21:15:17.753330Z",
     "iopub.status.idle": "2024-07-05T21:15:17.997958Z",
     "shell.execute_reply": "2024-07-05T21:15:17.997372Z"
    }
   },
   "outputs": [],
   "source": [
    "import pandas as pd\n"
   ]
  },
  {
   "cell_type": "markdown",
   "metadata": {},
   "source": [
    "TODO\n"
   ]
  },
  {
   "cell_type": "code",
   "execution_count": 2,
   "metadata": {
    "execution": {
     "iopub.execute_input": "2024-07-05T21:15:18.000959Z",
     "iopub.status.busy": "2024-07-05T21:15:18.000450Z",
     "iopub.status.idle": "2024-07-05T21:15:18.003346Z",
     "shell.execute_reply": "2024-07-05T21:15:18.002807Z"
    }
   },
   "outputs": [],
   "source": [
    "# TODO\n"
   ]
  }
 ],
 "metadata": {
  "kernelspec": {
   "display_name": "Python 3",
   "language": "python",
   "name": "python3"
  },
  "language_info": {
   "codemirror_mode": {
    "name": "ipython",
    "version": 3
   },
   "file_extension": ".py",
   "mimetype": "text/x-python",
   "name": "python",
   "nbconvert_exporter": "python",
   "pygments_lexer": "ipython3",
   "version": "3.10.12"
  }
 },
 "nbformat": 4,
 "nbformat_minor": 4
}
