{
 "cells": [
  {
   "cell_type": "code",
   "execution_count": 1,
   "metadata": {
    "execution": {
     "iopub.execute_input": "2024-08-08T15:02:39.936012Z",
     "iopub.status.busy": "2024-08-08T15:02:39.935585Z",
     "iopub.status.idle": "2024-08-08T15:02:40.157768Z",
     "shell.execute_reply": "2024-08-08T15:02:40.157227Z"
    }
   },
   "outputs": [],
   "source": [
    "import pandas as pd\n"
   ]
  },
  {
   "cell_type": "markdown",
   "metadata": {},
   "source": [
    "TODO\n"
   ]
  },
  {
   "cell_type": "code",
   "execution_count": 2,
   "metadata": {
    "execution": {
     "iopub.execute_input": "2024-08-08T15:02:40.160654Z",
     "iopub.status.busy": "2024-08-08T15:02:40.160237Z",
     "iopub.status.idle": "2024-08-08T15:02:40.163044Z",
     "shell.execute_reply": "2024-08-08T15:02:40.162427Z"
    }
   },
   "outputs": [],
   "source": [
    "# TODO\n"
   ]
  }
 ],
 "metadata": {
  "kernelspec": {
   "display_name": "Python 3",
   "language": "python",
   "name": "python3"
  },
  "language_info": {
   "codemirror_mode": {
    "name": "ipython",
    "version": 3
   },
   "file_extension": ".py",
   "mimetype": "text/x-python",
   "name": "python",
   "nbconvert_exporter": "python",
   "pygments_lexer": "ipython3",
   "version": "3.10.12"
  }
 },
 "nbformat": 4,
 "nbformat_minor": 4
}
