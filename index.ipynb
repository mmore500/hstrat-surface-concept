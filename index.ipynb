{
 "cells": [
  {
   "cell_type": "code",
   "execution_count": 1,
   "metadata": {
    "execution": {
     "iopub.execute_input": "2024-08-19T05:24:33.213524Z",
     "iopub.status.busy": "2024-08-19T05:24:33.213355Z",
     "iopub.status.idle": "2024-08-19T05:24:33.425907Z",
     "shell.execute_reply": "2024-08-19T05:24:33.425379Z"
    }
   },
   "outputs": [],
   "source": [
    "import pandas as pd\n"
   ]
  },
  {
   "cell_type": "markdown",
   "metadata": {},
   "source": [
    "TODO\n"
   ]
  },
  {
   "cell_type": "code",
   "execution_count": 2,
   "metadata": {
    "execution": {
     "iopub.execute_input": "2024-08-19T05:24:33.428827Z",
     "iopub.status.busy": "2024-08-19T05:24:33.428274Z",
     "iopub.status.idle": "2024-08-19T05:24:33.431102Z",
     "shell.execute_reply": "2024-08-19T05:24:33.430628Z"
    }
   },
   "outputs": [],
   "source": [
    "# TODO\n"
   ]
  }
 ],
 "metadata": {
  "kernelspec": {
   "display_name": "Python 3",
   "language": "python",
   "name": "python3"
  },
  "language_info": {
   "codemirror_mode": {
    "name": "ipython",
    "version": 3
   },
   "file_extension": ".py",
   "mimetype": "text/x-python",
   "name": "python",
   "nbconvert_exporter": "python",
   "pygments_lexer": "ipython3",
   "version": "3.10.12"
  }
 },
 "nbformat": 4,
 "nbformat_minor": 4
}
