{
 "cells": [
  {
   "cell_type": "code",
   "execution_count": 1,
   "metadata": {
    "execution": {
     "iopub.execute_input": "2024-08-14T18:15:14.444816Z",
     "iopub.status.busy": "2024-08-14T18:15:14.444651Z",
     "iopub.status.idle": "2024-08-14T18:15:14.658437Z",
     "shell.execute_reply": "2024-08-14T18:15:14.657910Z"
    }
   },
   "outputs": [],
   "source": [
    "import pandas as pd\n"
   ]
  },
  {
   "cell_type": "markdown",
   "metadata": {},
   "source": [
    "TODO\n"
   ]
  },
  {
   "cell_type": "code",
   "execution_count": 2,
   "metadata": {
    "execution": {
     "iopub.execute_input": "2024-08-14T18:15:14.661140Z",
     "iopub.status.busy": "2024-08-14T18:15:14.660892Z",
     "iopub.status.idle": "2024-08-14T18:15:14.663669Z",
     "shell.execute_reply": "2024-08-14T18:15:14.663148Z"
    }
   },
   "outputs": [],
   "source": [
    "# TODO\n"
   ]
  }
 ],
 "metadata": {
  "kernelspec": {
   "display_name": "Python 3",
   "language": "python",
   "name": "python3"
  },
  "language_info": {
   "codemirror_mode": {
    "name": "ipython",
    "version": 3
   },
   "file_extension": ".py",
   "mimetype": "text/x-python",
   "name": "python",
   "nbconvert_exporter": "python",
   "pygments_lexer": "ipython3",
   "version": "3.10.12"
  }
 },
 "nbformat": 4,
 "nbformat_minor": 4
}
