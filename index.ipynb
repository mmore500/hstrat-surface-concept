{
 "cells": [
  {
   "cell_type": "code",
   "execution_count": 1,
   "metadata": {
    "execution": {
     "iopub.execute_input": "2024-08-19T20:31:21.822016Z",
     "iopub.status.busy": "2024-08-19T20:31:21.821856Z",
     "iopub.status.idle": "2024-08-19T20:31:22.034998Z",
     "shell.execute_reply": "2024-08-19T20:31:22.034369Z"
    }
   },
   "outputs": [],
   "source": [
    "import pandas as pd\n"
   ]
  },
  {
   "cell_type": "markdown",
   "metadata": {},
   "source": [
    "TODO\n"
   ]
  },
  {
   "cell_type": "code",
   "execution_count": 2,
   "metadata": {
    "execution": {
     "iopub.execute_input": "2024-08-19T20:31:22.037976Z",
     "iopub.status.busy": "2024-08-19T20:31:22.037567Z",
     "iopub.status.idle": "2024-08-19T20:31:22.040153Z",
     "shell.execute_reply": "2024-08-19T20:31:22.039627Z"
    }
   },
   "outputs": [],
   "source": [
    "# TODO\n"
   ]
  }
 ],
 "metadata": {
  "kernelspec": {
   "display_name": "Python 3",
   "language": "python",
   "name": "python3"
  },
  "language_info": {
   "codemirror_mode": {
    "name": "ipython",
    "version": 3
   },
   "file_extension": ".py",
   "mimetype": "text/x-python",
   "name": "python",
   "nbconvert_exporter": "python",
   "pygments_lexer": "ipython3",
   "version": "3.10.12"
  }
 },
 "nbformat": 4,
 "nbformat_minor": 4
}
