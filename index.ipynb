{
 "cells": [
  {
   "cell_type": "code",
   "execution_count": 1,
   "metadata": {
    "execution": {
     "iopub.execute_input": "2023-06-26T21:38:55.691477Z",
     "iopub.status.busy": "2023-06-26T21:38:55.691200Z",
     "iopub.status.idle": "2023-06-26T21:38:56.260399Z",
     "shell.execute_reply": "2023-06-26T21:38:56.259255Z"
    }
   },
   "outputs": [],
   "source": [
    "import pandas as pd\n"
   ]
  },
  {
   "cell_type": "markdown",
   "metadata": {},
   "source": [
    "TODO\n"
   ]
  },
  {
   "cell_type": "code",
   "execution_count": 2,
   "metadata": {
    "execution": {
     "iopub.execute_input": "2023-06-26T21:38:56.265530Z",
     "iopub.status.busy": "2023-06-26T21:38:56.265162Z",
     "iopub.status.idle": "2023-06-26T21:38:56.271018Z",
     "shell.execute_reply": "2023-06-26T21:38:56.270159Z"
    }
   },
   "outputs": [],
   "source": [
    "# TODO\n"
   ]
  }
 ],
 "metadata": {
  "kernelspec": {
   "display_name": "Python 3",
   "language": "python",
   "name": "python3"
  },
  "language_info": {
   "codemirror_mode": {
    "name": "ipython",
    "version": 3
   },
   "file_extension": ".py",
   "mimetype": "text/x-python",
   "name": "python",
   "nbconvert_exporter": "python",
   "pygments_lexer": "ipython3",
   "version": "3.10.6"
  }
 },
 "nbformat": 4,
 "nbformat_minor": 4
}
