{
 "cells": [
  {
   "cell_type": "code",
   "execution_count": 1,
   "metadata": {
    "execution": {
     "iopub.execute_input": "2025-04-27T04:22:14.499105Z",
     "iopub.status.busy": "2025-04-27T04:22:14.498937Z",
     "iopub.status.idle": "2025-04-27T04:22:15.351347Z",
     "shell.execute_reply": "2025-04-27T04:22:15.350727Z"
    }
   },
   "outputs": [],
   "source": [
    "import pandas as pd\n"
   ]
  },
  {
   "cell_type": "markdown",
   "metadata": {},
   "source": [
    "TODO\n"
   ]
  },
  {
   "cell_type": "code",
   "execution_count": 2,
   "metadata": {
    "execution": {
     "iopub.execute_input": "2025-04-27T04:22:15.354241Z",
     "iopub.status.busy": "2025-04-27T04:22:15.353778Z",
     "iopub.status.idle": "2025-04-27T04:22:15.356471Z",
     "shell.execute_reply": "2025-04-27T04:22:15.355941Z"
    }
   },
   "outputs": [],
   "source": [
    "# TODO\n"
   ]
  }
 ],
 "metadata": {
  "kernelspec": {
   "display_name": "Python 3",
   "language": "python",
   "name": "python3"
  },
  "language_info": {
   "codemirror_mode": {
    "name": "ipython",
    "version": 3
   },
   "file_extension": ".py",
   "mimetype": "text/x-python",
   "name": "python",
   "nbconvert_exporter": "python",
   "pygments_lexer": "ipython3",
   "version": "3.10.12"
  }
 },
 "nbformat": 4,
 "nbformat_minor": 4
}
