{
 "cells": [
  {
   "cell_type": "code",
   "execution_count": 1,
   "metadata": {
    "execution": {
     "iopub.execute_input": "2024-09-15T22:51:52.770171Z",
     "iopub.status.busy": "2024-09-15T22:51:52.770004Z",
     "iopub.status.idle": "2024-09-15T22:51:52.985028Z",
     "shell.execute_reply": "2024-09-15T22:51:52.984382Z"
    }
   },
   "outputs": [],
   "source": [
    "import pandas as pd\n"
   ]
  },
  {
   "cell_type": "markdown",
   "metadata": {},
   "source": [
    "TODO\n"
   ]
  },
  {
   "cell_type": "code",
   "execution_count": 2,
   "metadata": {
    "execution": {
     "iopub.execute_input": "2024-09-15T22:51:52.987827Z",
     "iopub.status.busy": "2024-09-15T22:51:52.987563Z",
     "iopub.status.idle": "2024-09-15T22:51:52.990309Z",
     "shell.execute_reply": "2024-09-15T22:51:52.989768Z"
    }
   },
   "outputs": [],
   "source": [
    "# TODO\n"
   ]
  }
 ],
 "metadata": {
  "kernelspec": {
   "display_name": "Python 3",
   "language": "python",
   "name": "python3"
  },
  "language_info": {
   "codemirror_mode": {
    "name": "ipython",
    "version": 3
   },
   "file_extension": ".py",
   "mimetype": "text/x-python",
   "name": "python",
   "nbconvert_exporter": "python",
   "pygments_lexer": "ipython3",
   "version": "3.10.12"
  }
 },
 "nbformat": 4,
 "nbformat_minor": 4
}
