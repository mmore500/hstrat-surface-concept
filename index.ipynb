{
 "cells": [
  {
   "cell_type": "code",
   "execution_count": 1,
   "metadata": {
    "execution": {
     "iopub.execute_input": "2024-06-20T20:41:51.492895Z",
     "iopub.status.busy": "2024-06-20T20:41:51.492719Z",
     "iopub.status.idle": "2024-06-20T20:41:51.710783Z",
     "shell.execute_reply": "2024-06-20T20:41:51.710249Z"
    }
   },
   "outputs": [],
   "source": [
    "import pandas as pd\n"
   ]
  },
  {
   "cell_type": "markdown",
   "metadata": {},
   "source": [
    "TODO\n"
   ]
  },
  {
   "cell_type": "code",
   "execution_count": 2,
   "metadata": {
    "execution": {
     "iopub.execute_input": "2024-06-20T20:41:51.713419Z",
     "iopub.status.busy": "2024-06-20T20:41:51.713182Z",
     "iopub.status.idle": "2024-06-20T20:41:51.715825Z",
     "shell.execute_reply": "2024-06-20T20:41:51.715272Z"
    }
   },
   "outputs": [],
   "source": [
    "# TODO\n"
   ]
  }
 ],
 "metadata": {
  "kernelspec": {
   "display_name": "Python 3",
   "language": "python",
   "name": "python3"
  },
  "language_info": {
   "codemirror_mode": {
    "name": "ipython",
    "version": 3
   },
   "file_extension": ".py",
   "mimetype": "text/x-python",
   "name": "python",
   "nbconvert_exporter": "python",
   "pygments_lexer": "ipython3",
   "version": "3.10.12"
  }
 },
 "nbformat": 4,
 "nbformat_minor": 4
}
