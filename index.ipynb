{
 "cells": [
  {
   "cell_type": "code",
   "execution_count": 1,
   "metadata": {
    "execution": {
     "iopub.execute_input": "2024-01-04T18:46:47.035423Z",
     "iopub.status.busy": "2024-01-04T18:46:47.035026Z",
     "iopub.status.idle": "2024-01-04T18:46:47.246487Z",
     "shell.execute_reply": "2024-01-04T18:46:47.245834Z"
    }
   },
   "outputs": [],
   "source": [
    "import pandas as pd\n"
   ]
  },
  {
   "cell_type": "markdown",
   "metadata": {},
   "source": [
    "TODO\n"
   ]
  },
  {
   "cell_type": "code",
   "execution_count": 2,
   "metadata": {
    "execution": {
     "iopub.execute_input": "2024-01-04T18:46:47.249569Z",
     "iopub.status.busy": "2024-01-04T18:46:47.249173Z",
     "iopub.status.idle": "2024-01-04T18:46:47.251885Z",
     "shell.execute_reply": "2024-01-04T18:46:47.251369Z"
    }
   },
   "outputs": [],
   "source": [
    "# TODO\n"
   ]
  }
 ],
 "metadata": {
  "kernelspec": {
   "display_name": "Python 3",
   "language": "python",
   "name": "python3"
  },
  "language_info": {
   "codemirror_mode": {
    "name": "ipython",
    "version": 3
   },
   "file_extension": ".py",
   "mimetype": "text/x-python",
   "name": "python",
   "nbconvert_exporter": "python",
   "pygments_lexer": "ipython3",
   "version": "3.10.12"
  }
 },
 "nbformat": 4,
 "nbformat_minor": 4
}
