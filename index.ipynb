{
 "cells": [
  {
   "cell_type": "code",
   "execution_count": 1,
   "metadata": {
    "execution": {
     "iopub.execute_input": "2023-06-27T07:46:21.528923Z",
     "iopub.status.busy": "2023-06-27T07:46:21.528633Z",
     "iopub.status.idle": "2023-06-27T07:46:22.086501Z",
     "shell.execute_reply": "2023-06-27T07:46:22.085439Z"
    }
   },
   "outputs": [],
   "source": [
    "import pandas as pd\n"
   ]
  },
  {
   "cell_type": "markdown",
   "metadata": {},
   "source": [
    "TODO\n"
   ]
  },
  {
   "cell_type": "code",
   "execution_count": 2,
   "metadata": {
    "execution": {
     "iopub.execute_input": "2023-06-27T07:46:22.090900Z",
     "iopub.status.busy": "2023-06-27T07:46:22.090361Z",
     "iopub.status.idle": "2023-06-27T07:46:22.095316Z",
     "shell.execute_reply": "2023-06-27T07:46:22.094603Z"
    }
   },
   "outputs": [],
   "source": [
    "# TODO\n"
   ]
  }
 ],
 "metadata": {
  "kernelspec": {
   "display_name": "Python 3",
   "language": "python",
   "name": "python3"
  },
  "language_info": {
   "codemirror_mode": {
    "name": "ipython",
    "version": 3
   },
   "file_extension": ".py",
   "mimetype": "text/x-python",
   "name": "python",
   "nbconvert_exporter": "python",
   "pygments_lexer": "ipython3",
   "version": "3.10.6"
  }
 },
 "nbformat": 4,
 "nbformat_minor": 4
}
