{
 "cells": [
  {
   "cell_type": "code",
   "execution_count": 1,
   "metadata": {
    "execution": {
     "iopub.execute_input": "2023-07-03T06:57:05.655061Z",
     "iopub.status.busy": "2023-07-03T06:57:05.654783Z",
     "iopub.status.idle": "2023-07-03T06:57:06.231897Z",
     "shell.execute_reply": "2023-07-03T06:57:06.230788Z"
    }
   },
   "outputs": [],
   "source": [
    "import pandas as pd\n"
   ]
  },
  {
   "cell_type": "markdown",
   "metadata": {},
   "source": [
    "TODO\n"
   ]
  },
  {
   "cell_type": "code",
   "execution_count": 2,
   "metadata": {
    "execution": {
     "iopub.execute_input": "2023-07-03T06:57:06.236483Z",
     "iopub.status.busy": "2023-07-03T06:57:06.236128Z",
     "iopub.status.idle": "2023-07-03T06:57:06.241610Z",
     "shell.execute_reply": "2023-07-03T06:57:06.240589Z"
    }
   },
   "outputs": [],
   "source": [
    "# TODO\n"
   ]
  }
 ],
 "metadata": {
  "kernelspec": {
   "display_name": "Python 3",
   "language": "python",
   "name": "python3"
  },
  "language_info": {
   "codemirror_mode": {
    "name": "ipython",
    "version": 3
   },
   "file_extension": ".py",
   "mimetype": "text/x-python",
   "name": "python",
   "nbconvert_exporter": "python",
   "pygments_lexer": "ipython3",
   "version": "3.10.6"
  }
 },
 "nbformat": 4,
 "nbformat_minor": 4
}
