{
 "cells": [
  {
   "cell_type": "code",
   "execution_count": 1,
   "metadata": {
    "execution": {
     "iopub.execute_input": "2024-01-30T08:36:38.789254Z",
     "iopub.status.busy": "2024-01-30T08:36:38.788860Z",
     "iopub.status.idle": "2024-01-30T08:36:39.003457Z",
     "shell.execute_reply": "2024-01-30T08:36:39.002929Z"
    }
   },
   "outputs": [],
   "source": [
    "import pandas as pd\n"
   ]
  },
  {
   "cell_type": "markdown",
   "metadata": {},
   "source": [
    "TODO\n"
   ]
  },
  {
   "cell_type": "code",
   "execution_count": 2,
   "metadata": {
    "execution": {
     "iopub.execute_input": "2024-01-30T08:36:39.006182Z",
     "iopub.status.busy": "2024-01-30T08:36:39.005807Z",
     "iopub.status.idle": "2024-01-30T08:36:39.008490Z",
     "shell.execute_reply": "2024-01-30T08:36:39.007972Z"
    }
   },
   "outputs": [],
   "source": [
    "# TODO\n"
   ]
  }
 ],
 "metadata": {
  "kernelspec": {
   "display_name": "Python 3",
   "language": "python",
   "name": "python3"
  },
  "language_info": {
   "codemirror_mode": {
    "name": "ipython",
    "version": 3
   },
   "file_extension": ".py",
   "mimetype": "text/x-python",
   "name": "python",
   "nbconvert_exporter": "python",
   "pygments_lexer": "ipython3",
   "version": "3.10.12"
  }
 },
 "nbformat": 4,
 "nbformat_minor": 4
}
