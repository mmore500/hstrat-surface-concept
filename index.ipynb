{
 "cells": [
  {
   "cell_type": "code",
   "execution_count": 1,
   "metadata": {
    "execution": {
     "iopub.execute_input": "2024-06-30T11:18:17.903071Z",
     "iopub.status.busy": "2024-06-30T11:18:17.902893Z",
     "iopub.status.idle": "2024-06-30T11:18:18.127390Z",
     "shell.execute_reply": "2024-06-30T11:18:18.126845Z"
    }
   },
   "outputs": [],
   "source": [
    "import pandas as pd\n"
   ]
  },
  {
   "cell_type": "markdown",
   "metadata": {},
   "source": [
    "TODO\n"
   ]
  },
  {
   "cell_type": "code",
   "execution_count": 2,
   "metadata": {
    "execution": {
     "iopub.execute_input": "2024-06-30T11:18:18.130282Z",
     "iopub.status.busy": "2024-06-30T11:18:18.129717Z",
     "iopub.status.idle": "2024-06-30T11:18:18.132605Z",
     "shell.execute_reply": "2024-06-30T11:18:18.132003Z"
    }
   },
   "outputs": [],
   "source": [
    "# TODO\n"
   ]
  }
 ],
 "metadata": {
  "kernelspec": {
   "display_name": "Python 3",
   "language": "python",
   "name": "python3"
  },
  "language_info": {
   "codemirror_mode": {
    "name": "ipython",
    "version": 3
   },
   "file_extension": ".py",
   "mimetype": "text/x-python",
   "name": "python",
   "nbconvert_exporter": "python",
   "pygments_lexer": "ipython3",
   "version": "3.10.12"
  }
 },
 "nbformat": 4,
 "nbformat_minor": 4
}
