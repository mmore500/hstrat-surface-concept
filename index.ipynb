{
 "cells": [
  {
   "cell_type": "code",
   "execution_count": 1,
   "metadata": {
    "execution": {
     "iopub.execute_input": "2023-06-26T16:49:11.776129Z",
     "iopub.status.busy": "2023-06-26T16:49:11.775618Z",
     "iopub.status.idle": "2023-06-26T16:49:12.430535Z",
     "shell.execute_reply": "2023-06-26T16:49:12.429274Z"
    }
   },
   "outputs": [],
   "source": [
    "import pandas as pd\n"
   ]
  },
  {
   "cell_type": "markdown",
   "metadata": {},
   "source": [
    "TODO\n"
   ]
  },
  {
   "cell_type": "code",
   "execution_count": 2,
   "metadata": {
    "execution": {
     "iopub.execute_input": "2023-06-26T16:49:12.435204Z",
     "iopub.status.busy": "2023-06-26T16:49:12.434823Z",
     "iopub.status.idle": "2023-06-26T16:49:12.439829Z",
     "shell.execute_reply": "2023-06-26T16:49:12.438915Z"
    }
   },
   "outputs": [],
   "source": [
    "# TODO\n"
   ]
  }
 ],
 "metadata": {
  "kernelspec": {
   "display_name": "Python 3",
   "language": "python",
   "name": "python3"
  },
  "language_info": {
   "codemirror_mode": {
    "name": "ipython",
    "version": 3
   },
   "file_extension": ".py",
   "mimetype": "text/x-python",
   "name": "python",
   "nbconvert_exporter": "python",
   "pygments_lexer": "ipython3",
   "version": "3.10.6"
  }
 },
 "nbformat": 4,
 "nbformat_minor": 4
}
