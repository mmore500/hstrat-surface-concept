{
 "cells": [
  {
   "cell_type": "code",
   "execution_count": 1,
   "metadata": {
    "execution": {
     "iopub.execute_input": "2024-06-30T15:51:41.852411Z",
     "iopub.status.busy": "2024-06-30T15:51:41.852241Z",
     "iopub.status.idle": "2024-06-30T15:51:42.078570Z",
     "shell.execute_reply": "2024-06-30T15:51:42.078006Z"
    }
   },
   "outputs": [],
   "source": [
    "import pandas as pd\n"
   ]
  },
  {
   "cell_type": "markdown",
   "metadata": {},
   "source": [
    "TODO\n"
   ]
  },
  {
   "cell_type": "code",
   "execution_count": 2,
   "metadata": {
    "execution": {
     "iopub.execute_input": "2024-06-30T15:51:42.081434Z",
     "iopub.status.busy": "2024-06-30T15:51:42.081130Z",
     "iopub.status.idle": "2024-06-30T15:51:42.084115Z",
     "shell.execute_reply": "2024-06-30T15:51:42.083541Z"
    }
   },
   "outputs": [],
   "source": [
    "# TODO\n"
   ]
  }
 ],
 "metadata": {
  "kernelspec": {
   "display_name": "Python 3",
   "language": "python",
   "name": "python3"
  },
  "language_info": {
   "codemirror_mode": {
    "name": "ipython",
    "version": 3
   },
   "file_extension": ".py",
   "mimetype": "text/x-python",
   "name": "python",
   "nbconvert_exporter": "python",
   "pygments_lexer": "ipython3",
   "version": "3.10.12"
  }
 },
 "nbformat": 4,
 "nbformat_minor": 4
}
