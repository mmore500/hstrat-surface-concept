{
 "cells": [
  {
   "cell_type": "code",
   "execution_count": 1,
   "metadata": {
    "execution": {
     "iopub.execute_input": "2025-07-06T04:39:25.299904Z",
     "iopub.status.busy": "2025-07-06T04:39:25.299460Z",
     "iopub.status.idle": "2025-07-06T04:39:26.109770Z",
     "shell.execute_reply": "2025-07-06T04:39:26.109138Z"
    }
   },
   "outputs": [],
   "source": [
    "import pandas as pd\n"
   ]
  },
  {
   "cell_type": "markdown",
   "metadata": {},
   "source": [
    "TODO\n"
   ]
  },
  {
   "cell_type": "code",
   "execution_count": 2,
   "metadata": {
    "execution": {
     "iopub.execute_input": "2025-07-06T04:39:26.112174Z",
     "iopub.status.busy": "2025-07-06T04:39:26.111944Z",
     "iopub.status.idle": "2025-07-06T04:39:26.114794Z",
     "shell.execute_reply": "2025-07-06T04:39:26.114191Z"
    }
   },
   "outputs": [],
   "source": [
    "# TODO\n"
   ]
  }
 ],
 "metadata": {
  "kernelspec": {
   "display_name": "Python 3",
   "language": "python",
   "name": "python3"
  },
  "language_info": {
   "codemirror_mode": {
    "name": "ipython",
    "version": 3
   },
   "file_extension": ".py",
   "mimetype": "text/x-python",
   "name": "python",
   "nbconvert_exporter": "python",
   "pygments_lexer": "ipython3",
   "version": "3.10.12"
  }
 },
 "nbformat": 4,
 "nbformat_minor": 4
}
