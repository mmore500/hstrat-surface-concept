{
 "cells": [
  {
   "cell_type": "code",
   "execution_count": 1,
   "metadata": {
    "execution": {
     "iopub.execute_input": "2024-08-10T17:35:59.640747Z",
     "iopub.status.busy": "2024-08-10T17:35:59.640351Z",
     "iopub.status.idle": "2024-08-10T17:35:59.853096Z",
     "shell.execute_reply": "2024-08-10T17:35:59.852580Z"
    }
   },
   "outputs": [],
   "source": [
    "import pandas as pd\n"
   ]
  },
  {
   "cell_type": "markdown",
   "metadata": {},
   "source": [
    "TODO\n"
   ]
  },
  {
   "cell_type": "code",
   "execution_count": 2,
   "metadata": {
    "execution": {
     "iopub.execute_input": "2024-08-10T17:35:59.855928Z",
     "iopub.status.busy": "2024-08-10T17:35:59.855493Z",
     "iopub.status.idle": "2024-08-10T17:35:59.858166Z",
     "shell.execute_reply": "2024-08-10T17:35:59.857688Z"
    }
   },
   "outputs": [],
   "source": [
    "# TODO\n"
   ]
  }
 ],
 "metadata": {
  "kernelspec": {
   "display_name": "Python 3",
   "language": "python",
   "name": "python3"
  },
  "language_info": {
   "codemirror_mode": {
    "name": "ipython",
    "version": 3
   },
   "file_extension": ".py",
   "mimetype": "text/x-python",
   "name": "python",
   "nbconvert_exporter": "python",
   "pygments_lexer": "ipython3",
   "version": "3.10.12"
  }
 },
 "nbformat": 4,
 "nbformat_minor": 4
}
