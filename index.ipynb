{
 "cells": [
  {
   "cell_type": "code",
   "execution_count": 1,
   "metadata": {
    "execution": {
     "iopub.execute_input": "2024-07-13T02:25:38.720392Z",
     "iopub.status.busy": "2024-07-13T02:25:38.719996Z",
     "iopub.status.idle": "2024-07-13T02:25:38.931100Z",
     "shell.execute_reply": "2024-07-13T02:25:38.930579Z"
    }
   },
   "outputs": [],
   "source": [
    "import pandas as pd\n"
   ]
  },
  {
   "cell_type": "markdown",
   "metadata": {},
   "source": [
    "TODO\n"
   ]
  },
  {
   "cell_type": "code",
   "execution_count": 2,
   "metadata": {
    "execution": {
     "iopub.execute_input": "2024-07-13T02:25:38.933980Z",
     "iopub.status.busy": "2024-07-13T02:25:38.933470Z",
     "iopub.status.idle": "2024-07-13T02:25:38.936102Z",
     "shell.execute_reply": "2024-07-13T02:25:38.935599Z"
    }
   },
   "outputs": [],
   "source": [
    "# TODO\n"
   ]
  }
 ],
 "metadata": {
  "kernelspec": {
   "display_name": "Python 3",
   "language": "python",
   "name": "python3"
  },
  "language_info": {
   "codemirror_mode": {
    "name": "ipython",
    "version": 3
   },
   "file_extension": ".py",
   "mimetype": "text/x-python",
   "name": "python",
   "nbconvert_exporter": "python",
   "pygments_lexer": "ipython3",
   "version": "3.10.12"
  }
 },
 "nbformat": 4,
 "nbformat_minor": 4
}
