{
 "cells": [
  {
   "cell_type": "code",
   "execution_count": 1,
   "metadata": {
    "execution": {
     "iopub.execute_input": "2024-01-30T07:10:47.725725Z",
     "iopub.status.busy": "2024-01-30T07:10:47.725231Z",
     "iopub.status.idle": "2024-01-30T07:10:47.948289Z",
     "shell.execute_reply": "2024-01-30T07:10:47.947745Z"
    }
   },
   "outputs": [],
   "source": [
    "import pandas as pd\n"
   ]
  },
  {
   "cell_type": "markdown",
   "metadata": {},
   "source": [
    "TODO\n"
   ]
  },
  {
   "cell_type": "code",
   "execution_count": 2,
   "metadata": {
    "execution": {
     "iopub.execute_input": "2024-01-30T07:10:47.950926Z",
     "iopub.status.busy": "2024-01-30T07:10:47.950688Z",
     "iopub.status.idle": "2024-01-30T07:10:47.953441Z",
     "shell.execute_reply": "2024-01-30T07:10:47.952917Z"
    }
   },
   "outputs": [],
   "source": [
    "# TODO\n"
   ]
  }
 ],
 "metadata": {
  "kernelspec": {
   "display_name": "Python 3",
   "language": "python",
   "name": "python3"
  },
  "language_info": {
   "codemirror_mode": {
    "name": "ipython",
    "version": 3
   },
   "file_extension": ".py",
   "mimetype": "text/x-python",
   "name": "python",
   "nbconvert_exporter": "python",
   "pygments_lexer": "ipython3",
   "version": "3.10.12"
  }
 },
 "nbformat": 4,
 "nbformat_minor": 4
}
