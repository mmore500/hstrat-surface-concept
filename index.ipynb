{
 "cells": [
  {
   "cell_type": "code",
   "execution_count": 1,
   "metadata": {
    "execution": {
     "iopub.execute_input": "2024-08-22T15:01:29.139201Z",
     "iopub.status.busy": "2024-08-22T15:01:29.138794Z",
     "iopub.status.idle": "2024-08-22T15:01:29.366434Z",
     "shell.execute_reply": "2024-08-22T15:01:29.365876Z"
    }
   },
   "outputs": [],
   "source": [
    "import pandas as pd\n"
   ]
  },
  {
   "cell_type": "markdown",
   "metadata": {},
   "source": [
    "TODO\n"
   ]
  },
  {
   "cell_type": "code",
   "execution_count": 2,
   "metadata": {
    "execution": {
     "iopub.execute_input": "2024-08-22T15:01:29.369252Z",
     "iopub.status.busy": "2024-08-22T15:01:29.368806Z",
     "iopub.status.idle": "2024-08-22T15:01:29.371475Z",
     "shell.execute_reply": "2024-08-22T15:01:29.370955Z"
    }
   },
   "outputs": [],
   "source": [
    "# TODO\n"
   ]
  }
 ],
 "metadata": {
  "kernelspec": {
   "display_name": "Python 3",
   "language": "python",
   "name": "python3"
  },
  "language_info": {
   "codemirror_mode": {
    "name": "ipython",
    "version": 3
   },
   "file_extension": ".py",
   "mimetype": "text/x-python",
   "name": "python",
   "nbconvert_exporter": "python",
   "pygments_lexer": "ipython3",
   "version": "3.10.12"
  }
 },
 "nbformat": 4,
 "nbformat_minor": 4
}
