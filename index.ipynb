{
 "cells": [
  {
   "cell_type": "code",
   "execution_count": 1,
   "metadata": {
    "execution": {
     "iopub.execute_input": "2025-01-26T04:18:50.347533Z",
     "iopub.status.busy": "2025-01-26T04:18:50.347359Z",
     "iopub.status.idle": "2025-01-26T04:18:51.172160Z",
     "shell.execute_reply": "2025-01-26T04:18:51.171494Z"
    }
   },
   "outputs": [],
   "source": [
    "import pandas as pd\n"
   ]
  },
  {
   "cell_type": "markdown",
   "metadata": {},
   "source": [
    "TODO\n"
   ]
  },
  {
   "cell_type": "code",
   "execution_count": 2,
   "metadata": {
    "execution": {
     "iopub.execute_input": "2025-01-26T04:18:51.175034Z",
     "iopub.status.busy": "2025-01-26T04:18:51.174814Z",
     "iopub.status.idle": "2025-01-26T04:18:51.177402Z",
     "shell.execute_reply": "2025-01-26T04:18:51.176889Z"
    }
   },
   "outputs": [],
   "source": [
    "# TODO\n"
   ]
  }
 ],
 "metadata": {
  "kernelspec": {
   "display_name": "Python 3",
   "language": "python",
   "name": "python3"
  },
  "language_info": {
   "codemirror_mode": {
    "name": "ipython",
    "version": 3
   },
   "file_extension": ".py",
   "mimetype": "text/x-python",
   "name": "python",
   "nbconvert_exporter": "python",
   "pygments_lexer": "ipython3",
   "version": "3.10.12"
  }
 },
 "nbformat": 4,
 "nbformat_minor": 4
}
