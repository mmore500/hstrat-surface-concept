{
 "cells": [
  {
   "cell_type": "code",
   "execution_count": 1,
   "metadata": {
    "execution": {
     "iopub.execute_input": "2024-07-27T15:29:44.085800Z",
     "iopub.status.busy": "2024-07-27T15:29:44.085638Z",
     "iopub.status.idle": "2024-07-27T15:29:44.293970Z",
     "shell.execute_reply": "2024-07-27T15:29:44.293450Z"
    }
   },
   "outputs": [],
   "source": [
    "import pandas as pd\n"
   ]
  },
  {
   "cell_type": "markdown",
   "metadata": {},
   "source": [
    "TODO\n"
   ]
  },
  {
   "cell_type": "code",
   "execution_count": 2,
   "metadata": {
    "execution": {
     "iopub.execute_input": "2024-07-27T15:29:44.296586Z",
     "iopub.status.busy": "2024-07-27T15:29:44.296222Z",
     "iopub.status.idle": "2024-07-27T15:29:44.298864Z",
     "shell.execute_reply": "2024-07-27T15:29:44.298316Z"
    }
   },
   "outputs": [],
   "source": [
    "# TODO\n"
   ]
  }
 ],
 "metadata": {
  "kernelspec": {
   "display_name": "Python 3",
   "language": "python",
   "name": "python3"
  },
  "language_info": {
   "codemirror_mode": {
    "name": "ipython",
    "version": 3
   },
   "file_extension": ".py",
   "mimetype": "text/x-python",
   "name": "python",
   "nbconvert_exporter": "python",
   "pygments_lexer": "ipython3",
   "version": "3.10.12"
  }
 },
 "nbformat": 4,
 "nbformat_minor": 4
}
