{
 "cells": [
  {
   "cell_type": "code",
   "execution_count": 1,
   "metadata": {
    "execution": {
     "iopub.execute_input": "2025-06-22T04:19:59.592631Z",
     "iopub.status.busy": "2025-06-22T04:19:59.592451Z",
     "iopub.status.idle": "2025-06-22T04:20:00.391191Z",
     "shell.execute_reply": "2025-06-22T04:20:00.390629Z"
    }
   },
   "outputs": [],
   "source": [
    "import pandas as pd\n"
   ]
  },
  {
   "cell_type": "markdown",
   "metadata": {},
   "source": [
    "TODO\n"
   ]
  },
  {
   "cell_type": "code",
   "execution_count": 2,
   "metadata": {
    "execution": {
     "iopub.execute_input": "2025-06-22T04:20:00.394081Z",
     "iopub.status.busy": "2025-06-22T04:20:00.393701Z",
     "iopub.status.idle": "2025-06-22T04:20:00.396555Z",
     "shell.execute_reply": "2025-06-22T04:20:00.395976Z"
    }
   },
   "outputs": [],
   "source": [
    "# TODO\n"
   ]
  }
 ],
 "metadata": {
  "kernelspec": {
   "display_name": "Python 3",
   "language": "python",
   "name": "python3"
  },
  "language_info": {
   "codemirror_mode": {
    "name": "ipython",
    "version": 3
   },
   "file_extension": ".py",
   "mimetype": "text/x-python",
   "name": "python",
   "nbconvert_exporter": "python",
   "pygments_lexer": "ipython3",
   "version": "3.10.12"
  }
 },
 "nbformat": 4,
 "nbformat_minor": 4
}
