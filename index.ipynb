{
 "cells": [
  {
   "cell_type": "code",
   "execution_count": 1,
   "metadata": {
    "execution": {
     "iopub.execute_input": "2024-07-01T02:38:31.913930Z",
     "iopub.status.busy": "2024-07-01T02:38:31.913765Z",
     "iopub.status.idle": "2024-07-01T02:38:32.124407Z",
     "shell.execute_reply": "2024-07-01T02:38:32.123727Z"
    }
   },
   "outputs": [],
   "source": [
    "import pandas as pd\n"
   ]
  },
  {
   "cell_type": "markdown",
   "metadata": {},
   "source": [
    "TODO\n"
   ]
  },
  {
   "cell_type": "code",
   "execution_count": 2,
   "metadata": {
    "execution": {
     "iopub.execute_input": "2024-07-01T02:38:32.127211Z",
     "iopub.status.busy": "2024-07-01T02:38:32.126797Z",
     "iopub.status.idle": "2024-07-01T02:38:32.129446Z",
     "shell.execute_reply": "2024-07-01T02:38:32.128927Z"
    }
   },
   "outputs": [],
   "source": [
    "# TODO\n"
   ]
  }
 ],
 "metadata": {
  "kernelspec": {
   "display_name": "Python 3",
   "language": "python",
   "name": "python3"
  },
  "language_info": {
   "codemirror_mode": {
    "name": "ipython",
    "version": 3
   },
   "file_extension": ".py",
   "mimetype": "text/x-python",
   "name": "python",
   "nbconvert_exporter": "python",
   "pygments_lexer": "ipython3",
   "version": "3.10.12"
  }
 },
 "nbformat": 4,
 "nbformat_minor": 4
}
