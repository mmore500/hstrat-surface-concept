{
 "cells": [
  {
   "cell_type": "code",
   "execution_count": 1,
   "metadata": {
    "execution": {
     "iopub.execute_input": "2024-06-09T01:13:06.088641Z",
     "iopub.status.busy": "2024-06-09T01:13:06.088466Z",
     "iopub.status.idle": "2024-06-09T01:13:06.308709Z",
     "shell.execute_reply": "2024-06-09T01:13:06.308173Z"
    }
   },
   "outputs": [],
   "source": [
    "import pandas as pd\n"
   ]
  },
  {
   "cell_type": "markdown",
   "metadata": {},
   "source": [
    "TODO\n"
   ]
  },
  {
   "cell_type": "code",
   "execution_count": 2,
   "metadata": {
    "execution": {
     "iopub.execute_input": "2024-06-09T01:13:06.311378Z",
     "iopub.status.busy": "2024-06-09T01:13:06.311143Z",
     "iopub.status.idle": "2024-06-09T01:13:06.313853Z",
     "shell.execute_reply": "2024-06-09T01:13:06.313366Z"
    }
   },
   "outputs": [],
   "source": [
    "# TODO\n"
   ]
  }
 ],
 "metadata": {
  "kernelspec": {
   "display_name": "Python 3",
   "language": "python",
   "name": "python3"
  },
  "language_info": {
   "codemirror_mode": {
    "name": "ipython",
    "version": 3
   },
   "file_extension": ".py",
   "mimetype": "text/x-python",
   "name": "python",
   "nbconvert_exporter": "python",
   "pygments_lexer": "ipython3",
   "version": "3.10.12"
  }
 },
 "nbformat": 4,
 "nbformat_minor": 4
}
