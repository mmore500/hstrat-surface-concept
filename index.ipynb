{
 "cells": [
  {
   "cell_type": "code",
   "execution_count": 1,
   "metadata": {
    "execution": {
     "iopub.execute_input": "2024-07-18T23:59:20.132758Z",
     "iopub.status.busy": "2024-07-18T23:59:20.132588Z",
     "iopub.status.idle": "2024-07-18T23:59:20.345212Z",
     "shell.execute_reply": "2024-07-18T23:59:20.344708Z"
    }
   },
   "outputs": [],
   "source": [
    "import pandas as pd\n"
   ]
  },
  {
   "cell_type": "markdown",
   "metadata": {},
   "source": [
    "TODO\n"
   ]
  },
  {
   "cell_type": "code",
   "execution_count": 2,
   "metadata": {
    "execution": {
     "iopub.execute_input": "2024-07-18T23:59:20.348010Z",
     "iopub.status.busy": "2024-07-18T23:59:20.347587Z",
     "iopub.status.idle": "2024-07-18T23:59:20.350329Z",
     "shell.execute_reply": "2024-07-18T23:59:20.349833Z"
    }
   },
   "outputs": [],
   "source": [
    "# TODO\n"
   ]
  }
 ],
 "metadata": {
  "kernelspec": {
   "display_name": "Python 3",
   "language": "python",
   "name": "python3"
  },
  "language_info": {
   "codemirror_mode": {
    "name": "ipython",
    "version": 3
   },
   "file_extension": ".py",
   "mimetype": "text/x-python",
   "name": "python",
   "nbconvert_exporter": "python",
   "pygments_lexer": "ipython3",
   "version": "3.10.12"
  }
 },
 "nbformat": 4,
 "nbformat_minor": 4
}
