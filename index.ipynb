{
 "cells": [
  {
   "cell_type": "code",
   "execution_count": 1,
   "metadata": {
    "execution": {
     "iopub.execute_input": "2025-07-07T06:35:38.322699Z",
     "iopub.status.busy": "2025-07-07T06:35:38.322508Z",
     "iopub.status.idle": "2025-07-07T06:35:39.140532Z",
     "shell.execute_reply": "2025-07-07T06:35:39.139909Z"
    }
   },
   "outputs": [],
   "source": [
    "import pandas as pd\n"
   ]
  },
  {
   "cell_type": "markdown",
   "metadata": {},
   "source": [
    "TODO\n"
   ]
  },
  {
   "cell_type": "code",
   "execution_count": 2,
   "metadata": {
    "execution": {
     "iopub.execute_input": "2025-07-07T06:35:39.142865Z",
     "iopub.status.busy": "2025-07-07T06:35:39.142623Z",
     "iopub.status.idle": "2025-07-07T06:35:39.145432Z",
     "shell.execute_reply": "2025-07-07T06:35:39.144945Z"
    }
   },
   "outputs": [],
   "source": [
    "# TODO\n"
   ]
  }
 ],
 "metadata": {
  "kernelspec": {
   "display_name": "Python 3",
   "language": "python",
   "name": "python3"
  },
  "language_info": {
   "codemirror_mode": {
    "name": "ipython",
    "version": 3
   },
   "file_extension": ".py",
   "mimetype": "text/x-python",
   "name": "python",
   "nbconvert_exporter": "python",
   "pygments_lexer": "ipython3",
   "version": "3.10.12"
  }
 },
 "nbformat": 4,
 "nbformat_minor": 4
}
