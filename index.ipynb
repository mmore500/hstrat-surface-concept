{
 "cells": [
  {
   "cell_type": "code",
   "execution_count": 1,
   "metadata": {
    "execution": {
     "iopub.execute_input": "2024-09-18T03:18:15.099546Z",
     "iopub.status.busy": "2024-09-18T03:18:15.099361Z",
     "iopub.status.idle": "2024-09-18T03:18:15.310655Z",
     "shell.execute_reply": "2024-09-18T03:18:15.310017Z"
    }
   },
   "outputs": [],
   "source": [
    "import pandas as pd\n"
   ]
  },
  {
   "cell_type": "markdown",
   "metadata": {},
   "source": [
    "TODO\n"
   ]
  },
  {
   "cell_type": "code",
   "execution_count": 2,
   "metadata": {
    "execution": {
     "iopub.execute_input": "2024-09-18T03:18:15.313596Z",
     "iopub.status.busy": "2024-09-18T03:18:15.313224Z",
     "iopub.status.idle": "2024-09-18T03:18:15.315878Z",
     "shell.execute_reply": "2024-09-18T03:18:15.315321Z"
    }
   },
   "outputs": [],
   "source": [
    "# TODO\n"
   ]
  }
 ],
 "metadata": {
  "kernelspec": {
   "display_name": "Python 3",
   "language": "python",
   "name": "python3"
  },
  "language_info": {
   "codemirror_mode": {
    "name": "ipython",
    "version": 3
   },
   "file_extension": ".py",
   "mimetype": "text/x-python",
   "name": "python",
   "nbconvert_exporter": "python",
   "pygments_lexer": "ipython3",
   "version": "3.10.12"
  }
 },
 "nbformat": 4,
 "nbformat_minor": 4
}
