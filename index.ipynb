{
 "cells": [
  {
   "cell_type": "code",
   "execution_count": 1,
   "metadata": {
    "execution": {
     "iopub.execute_input": "2024-10-06T04:19:28.394136Z",
     "iopub.status.busy": "2024-10-06T04:19:28.393943Z",
     "iopub.status.idle": "2024-10-06T04:19:29.211314Z",
     "shell.execute_reply": "2024-10-06T04:19:29.210733Z"
    }
   },
   "outputs": [],
   "source": [
    "import pandas as pd\n"
   ]
  },
  {
   "cell_type": "markdown",
   "metadata": {},
   "source": [
    "TODO\n"
   ]
  },
  {
   "cell_type": "code",
   "execution_count": 2,
   "metadata": {
    "execution": {
     "iopub.execute_input": "2024-10-06T04:19:29.213850Z",
     "iopub.status.busy": "2024-10-06T04:19:29.213635Z",
     "iopub.status.idle": "2024-10-06T04:19:29.216287Z",
     "shell.execute_reply": "2024-10-06T04:19:29.215791Z"
    }
   },
   "outputs": [],
   "source": [
    "# TODO\n"
   ]
  }
 ],
 "metadata": {
  "kernelspec": {
   "display_name": "Python 3",
   "language": "python",
   "name": "python3"
  },
  "language_info": {
   "codemirror_mode": {
    "name": "ipython",
    "version": 3
   },
   "file_extension": ".py",
   "mimetype": "text/x-python",
   "name": "python",
   "nbconvert_exporter": "python",
   "pygments_lexer": "ipython3",
   "version": "3.10.12"
  }
 },
 "nbformat": 4,
 "nbformat_minor": 4
}
