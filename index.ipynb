{
 "cells": [
  {
   "cell_type": "code",
   "execution_count": 1,
   "metadata": {
    "execution": {
     "iopub.execute_input": "2024-08-07T13:51:57.345647Z",
     "iopub.status.busy": "2024-08-07T13:51:57.345480Z",
     "iopub.status.idle": "2024-08-07T13:51:57.562052Z",
     "shell.execute_reply": "2024-08-07T13:51:57.561393Z"
    }
   },
   "outputs": [],
   "source": [
    "import pandas as pd\n"
   ]
  },
  {
   "cell_type": "markdown",
   "metadata": {},
   "source": [
    "TODO\n"
   ]
  },
  {
   "cell_type": "code",
   "execution_count": 2,
   "metadata": {
    "execution": {
     "iopub.execute_input": "2024-08-07T13:51:57.565131Z",
     "iopub.status.busy": "2024-08-07T13:51:57.564610Z",
     "iopub.status.idle": "2024-08-07T13:51:57.567490Z",
     "shell.execute_reply": "2024-08-07T13:51:57.566940Z"
    }
   },
   "outputs": [],
   "source": [
    "# TODO\n"
   ]
  }
 ],
 "metadata": {
  "kernelspec": {
   "display_name": "Python 3",
   "language": "python",
   "name": "python3"
  },
  "language_info": {
   "codemirror_mode": {
    "name": "ipython",
    "version": 3
   },
   "file_extension": ".py",
   "mimetype": "text/x-python",
   "name": "python",
   "nbconvert_exporter": "python",
   "pygments_lexer": "ipython3",
   "version": "3.10.12"
  }
 },
 "nbformat": 4,
 "nbformat_minor": 4
}
