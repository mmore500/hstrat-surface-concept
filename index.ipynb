{
 "cells": [
  {
   "cell_type": "code",
   "execution_count": 1,
   "metadata": {
    "execution": {
     "iopub.execute_input": "2024-08-15T17:42:45.111723Z",
     "iopub.status.busy": "2024-08-15T17:42:45.111556Z",
     "iopub.status.idle": "2024-08-15T17:42:45.324370Z",
     "shell.execute_reply": "2024-08-15T17:42:45.323732Z"
    }
   },
   "outputs": [],
   "source": [
    "import pandas as pd\n"
   ]
  },
  {
   "cell_type": "markdown",
   "metadata": {},
   "source": [
    "TODO\n"
   ]
  },
  {
   "cell_type": "code",
   "execution_count": 2,
   "metadata": {
    "execution": {
     "iopub.execute_input": "2024-08-15T17:42:45.327338Z",
     "iopub.status.busy": "2024-08-15T17:42:45.326847Z",
     "iopub.status.idle": "2024-08-15T17:42:45.329470Z",
     "shell.execute_reply": "2024-08-15T17:42:45.328985Z"
    }
   },
   "outputs": [],
   "source": [
    "# TODO\n"
   ]
  }
 ],
 "metadata": {
  "kernelspec": {
   "display_name": "Python 3",
   "language": "python",
   "name": "python3"
  },
  "language_info": {
   "codemirror_mode": {
    "name": "ipython",
    "version": 3
   },
   "file_extension": ".py",
   "mimetype": "text/x-python",
   "name": "python",
   "nbconvert_exporter": "python",
   "pygments_lexer": "ipython3",
   "version": "3.10.12"
  }
 },
 "nbformat": 4,
 "nbformat_minor": 4
}
