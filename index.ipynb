{
 "cells": [
  {
   "cell_type": "code",
   "execution_count": 1,
   "metadata": {
    "execution": {
     "iopub.execute_input": "2024-07-07T19:45:24.928101Z",
     "iopub.status.busy": "2024-07-07T19:45:24.927933Z",
     "iopub.status.idle": "2024-07-07T19:45:25.153523Z",
     "shell.execute_reply": "2024-07-07T19:45:25.152977Z"
    }
   },
   "outputs": [],
   "source": [
    "import pandas as pd\n"
   ]
  },
  {
   "cell_type": "markdown",
   "metadata": {},
   "source": [
    "TODO\n"
   ]
  },
  {
   "cell_type": "code",
   "execution_count": 2,
   "metadata": {
    "execution": {
     "iopub.execute_input": "2024-07-07T19:45:25.156315Z",
     "iopub.status.busy": "2024-07-07T19:45:25.156059Z",
     "iopub.status.idle": "2024-07-07T19:45:25.158843Z",
     "shell.execute_reply": "2024-07-07T19:45:25.158312Z"
    }
   },
   "outputs": [],
   "source": [
    "# TODO\n"
   ]
  }
 ],
 "metadata": {
  "kernelspec": {
   "display_name": "Python 3",
   "language": "python",
   "name": "python3"
  },
  "language_info": {
   "codemirror_mode": {
    "name": "ipython",
    "version": 3
   },
   "file_extension": ".py",
   "mimetype": "text/x-python",
   "name": "python",
   "nbconvert_exporter": "python",
   "pygments_lexer": "ipython3",
   "version": "3.10.12"
  }
 },
 "nbformat": 4,
 "nbformat_minor": 4
}
