{
 "cells": [
  {
   "cell_type": "code",
   "execution_count": 1,
   "metadata": {
    "execution": {
     "iopub.execute_input": "2024-07-01T16:23:34.396378Z",
     "iopub.status.busy": "2024-07-01T16:23:34.395976Z",
     "iopub.status.idle": "2024-07-01T16:23:34.614979Z",
     "shell.execute_reply": "2024-07-01T16:23:34.614475Z"
    }
   },
   "outputs": [],
   "source": [
    "import pandas as pd\n"
   ]
  },
  {
   "cell_type": "markdown",
   "metadata": {},
   "source": [
    "TODO\n"
   ]
  },
  {
   "cell_type": "code",
   "execution_count": 2,
   "metadata": {
    "execution": {
     "iopub.execute_input": "2024-07-01T16:23:34.617569Z",
     "iopub.status.busy": "2024-07-01T16:23:34.617333Z",
     "iopub.status.idle": "2024-07-01T16:23:34.620081Z",
     "shell.execute_reply": "2024-07-01T16:23:34.619506Z"
    }
   },
   "outputs": [],
   "source": [
    "# TODO\n"
   ]
  }
 ],
 "metadata": {
  "kernelspec": {
   "display_name": "Python 3",
   "language": "python",
   "name": "python3"
  },
  "language_info": {
   "codemirror_mode": {
    "name": "ipython",
    "version": 3
   },
   "file_extension": ".py",
   "mimetype": "text/x-python",
   "name": "python",
   "nbconvert_exporter": "python",
   "pygments_lexer": "ipython3",
   "version": "3.10.12"
  }
 },
 "nbformat": 4,
 "nbformat_minor": 4
}
