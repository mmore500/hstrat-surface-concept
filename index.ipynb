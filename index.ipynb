{
 "cells": [
  {
   "cell_type": "code",
   "execution_count": 1,
   "metadata": {
    "execution": {
     "iopub.execute_input": "2024-01-19T06:54:01.483533Z",
     "iopub.status.busy": "2024-01-19T06:54:01.483131Z",
     "iopub.status.idle": "2024-01-19T06:54:01.708479Z",
     "shell.execute_reply": "2024-01-19T06:54:01.707938Z"
    }
   },
   "outputs": [],
   "source": [
    "import pandas as pd\n"
   ]
  },
  {
   "cell_type": "markdown",
   "metadata": {},
   "source": [
    "TODO\n"
   ]
  },
  {
   "cell_type": "code",
   "execution_count": 2,
   "metadata": {
    "execution": {
     "iopub.execute_input": "2024-01-19T06:54:01.711415Z",
     "iopub.status.busy": "2024-01-19T06:54:01.710956Z",
     "iopub.status.idle": "2024-01-19T06:54:01.713682Z",
     "shell.execute_reply": "2024-01-19T06:54:01.713163Z"
    }
   },
   "outputs": [],
   "source": [
    "# TODO\n"
   ]
  }
 ],
 "metadata": {
  "kernelspec": {
   "display_name": "Python 3",
   "language": "python",
   "name": "python3"
  },
  "language_info": {
   "codemirror_mode": {
    "name": "ipython",
    "version": 3
   },
   "file_extension": ".py",
   "mimetype": "text/x-python",
   "name": "python",
   "nbconvert_exporter": "python",
   "pygments_lexer": "ipython3",
   "version": "3.10.12"
  }
 },
 "nbformat": 4,
 "nbformat_minor": 4
}
