{
 "cells": [
  {
   "cell_type": "code",
   "execution_count": 1,
   "metadata": {
    "execution": {
     "iopub.execute_input": "2023-09-17T01:43:43.733610Z",
     "iopub.status.busy": "2023-09-17T01:43:43.733224Z",
     "iopub.status.idle": "2023-09-17T01:43:44.077889Z",
     "shell.execute_reply": "2023-09-17T01:43:44.077269Z"
    }
   },
   "outputs": [],
   "source": [
    "import pandas as pd\n"
   ]
  },
  {
   "cell_type": "markdown",
   "metadata": {},
   "source": [
    "TODO\n"
   ]
  },
  {
   "cell_type": "code",
   "execution_count": 2,
   "metadata": {
    "execution": {
     "iopub.execute_input": "2023-09-17T01:43:44.081090Z",
     "iopub.status.busy": "2023-09-17T01:43:44.080612Z",
     "iopub.status.idle": "2023-09-17T01:43:44.084422Z",
     "shell.execute_reply": "2023-09-17T01:43:44.083811Z"
    }
   },
   "outputs": [],
   "source": [
    "# TODO\n"
   ]
  }
 ],
 "metadata": {
  "kernelspec": {
   "display_name": "Python 3",
   "language": "python",
   "name": "python3"
  },
  "language_info": {
   "codemirror_mode": {
    "name": "ipython",
    "version": 3
   },
   "file_extension": ".py",
   "mimetype": "text/x-python",
   "name": "python",
   "nbconvert_exporter": "python",
   "pygments_lexer": "ipython3",
   "version": "3.10.12"
  }
 },
 "nbformat": 4,
 "nbformat_minor": 4
}
