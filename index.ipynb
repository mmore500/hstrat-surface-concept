{
 "cells": [
  {
   "cell_type": "code",
   "execution_count": 1,
   "metadata": {
    "execution": {
     "iopub.execute_input": "2024-07-08T18:06:39.176464Z",
     "iopub.status.busy": "2024-07-08T18:06:39.176293Z",
     "iopub.status.idle": "2024-07-08T18:06:39.388648Z",
     "shell.execute_reply": "2024-07-08T18:06:39.387986Z"
    }
   },
   "outputs": [],
   "source": [
    "import pandas as pd\n"
   ]
  },
  {
   "cell_type": "markdown",
   "metadata": {},
   "source": [
    "TODO\n"
   ]
  },
  {
   "cell_type": "code",
   "execution_count": 2,
   "metadata": {
    "execution": {
     "iopub.execute_input": "2024-07-08T18:06:39.391534Z",
     "iopub.status.busy": "2024-07-08T18:06:39.391163Z",
     "iopub.status.idle": "2024-07-08T18:06:39.393837Z",
     "shell.execute_reply": "2024-07-08T18:06:39.393272Z"
    }
   },
   "outputs": [],
   "source": [
    "# TODO\n"
   ]
  }
 ],
 "metadata": {
  "kernelspec": {
   "display_name": "Python 3",
   "language": "python",
   "name": "python3"
  },
  "language_info": {
   "codemirror_mode": {
    "name": "ipython",
    "version": 3
   },
   "file_extension": ".py",
   "mimetype": "text/x-python",
   "name": "python",
   "nbconvert_exporter": "python",
   "pygments_lexer": "ipython3",
   "version": "3.10.12"
  }
 },
 "nbformat": 4,
 "nbformat_minor": 4
}
