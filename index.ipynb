{
 "cells": [
  {
   "cell_type": "code",
   "execution_count": 1,
   "metadata": {
    "execution": {
     "iopub.execute_input": "2023-06-28T21:36:54.782115Z",
     "iopub.status.busy": "2023-06-28T21:36:54.781677Z",
     "iopub.status.idle": "2023-06-28T21:36:55.193526Z",
     "shell.execute_reply": "2023-06-28T21:36:55.192841Z"
    }
   },
   "outputs": [],
   "source": [
    "import pandas as pd\n"
   ]
  },
  {
   "cell_type": "markdown",
   "metadata": {},
   "source": [
    "TODO\n"
   ]
  },
  {
   "cell_type": "code",
   "execution_count": 2,
   "metadata": {
    "execution": {
     "iopub.execute_input": "2023-06-28T21:36:55.197609Z",
     "iopub.status.busy": "2023-06-28T21:36:55.197116Z",
     "iopub.status.idle": "2023-06-28T21:36:55.201226Z",
     "shell.execute_reply": "2023-06-28T21:36:55.200677Z"
    }
   },
   "outputs": [],
   "source": [
    "# TODO\n"
   ]
  }
 ],
 "metadata": {
  "kernelspec": {
   "display_name": "Python 3",
   "language": "python",
   "name": "python3"
  },
  "language_info": {
   "codemirror_mode": {
    "name": "ipython",
    "version": 3
   },
   "file_extension": ".py",
   "mimetype": "text/x-python",
   "name": "python",
   "nbconvert_exporter": "python",
   "pygments_lexer": "ipython3",
   "version": "3.10.6"
  }
 },
 "nbformat": 4,
 "nbformat_minor": 4
}
