{
 "cells": [
  {
   "cell_type": "code",
   "execution_count": 1,
   "metadata": {
    "execution": {
     "iopub.execute_input": "2024-07-13T06:14:32.605349Z",
     "iopub.status.busy": "2024-07-13T06:14:32.605181Z",
     "iopub.status.idle": "2024-07-13T06:14:32.818419Z",
     "shell.execute_reply": "2024-07-13T06:14:32.817912Z"
    }
   },
   "outputs": [],
   "source": [
    "import pandas as pd\n"
   ]
  },
  {
   "cell_type": "markdown",
   "metadata": {},
   "source": [
    "TODO\n"
   ]
  },
  {
   "cell_type": "code",
   "execution_count": 2,
   "metadata": {
    "execution": {
     "iopub.execute_input": "2024-07-13T06:14:32.820970Z",
     "iopub.status.busy": "2024-07-13T06:14:32.820733Z",
     "iopub.status.idle": "2024-07-13T06:14:32.823391Z",
     "shell.execute_reply": "2024-07-13T06:14:32.822918Z"
    }
   },
   "outputs": [],
   "source": [
    "# TODO\n"
   ]
  }
 ],
 "metadata": {
  "kernelspec": {
   "display_name": "Python 3",
   "language": "python",
   "name": "python3"
  },
  "language_info": {
   "codemirror_mode": {
    "name": "ipython",
    "version": 3
   },
   "file_extension": ".py",
   "mimetype": "text/x-python",
   "name": "python",
   "nbconvert_exporter": "python",
   "pygments_lexer": "ipython3",
   "version": "3.10.12"
  }
 },
 "nbformat": 4,
 "nbformat_minor": 4
}
