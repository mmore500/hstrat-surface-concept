{
 "cells": [
  {
   "cell_type": "code",
   "execution_count": 1,
   "metadata": {
    "execution": {
     "iopub.execute_input": "2025-06-15T04:26:49.236108Z",
     "iopub.status.busy": "2025-06-15T04:26:49.235940Z",
     "iopub.status.idle": "2025-06-15T04:26:50.101696Z",
     "shell.execute_reply": "2025-06-15T04:26:50.101013Z"
    }
   },
   "outputs": [],
   "source": [
    "import pandas as pd\n"
   ]
  },
  {
   "cell_type": "markdown",
   "metadata": {},
   "source": [
    "TODO\n"
   ]
  },
  {
   "cell_type": "code",
   "execution_count": 2,
   "metadata": {
    "execution": {
     "iopub.execute_input": "2025-06-15T04:26:50.104544Z",
     "iopub.status.busy": "2025-06-15T04:26:50.104307Z",
     "iopub.status.idle": "2025-06-15T04:26:50.106857Z",
     "shell.execute_reply": "2025-06-15T04:26:50.106372Z"
    }
   },
   "outputs": [],
   "source": [
    "# TODO\n"
   ]
  }
 ],
 "metadata": {
  "kernelspec": {
   "display_name": "Python 3",
   "language": "python",
   "name": "python3"
  },
  "language_info": {
   "codemirror_mode": {
    "name": "ipython",
    "version": 3
   },
   "file_extension": ".py",
   "mimetype": "text/x-python",
   "name": "python",
   "nbconvert_exporter": "python",
   "pygments_lexer": "ipython3",
   "version": "3.10.12"
  }
 },
 "nbformat": 4,
 "nbformat_minor": 4
}
