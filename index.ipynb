{
 "cells": [
  {
   "cell_type": "code",
   "execution_count": 1,
   "metadata": {
    "execution": {
     "iopub.execute_input": "2024-07-13T01:58:06.411029Z",
     "iopub.status.busy": "2024-07-13T01:58:06.410858Z",
     "iopub.status.idle": "2024-07-13T01:58:06.623322Z",
     "shell.execute_reply": "2024-07-13T01:58:06.622758Z"
    }
   },
   "outputs": [],
   "source": [
    "import pandas as pd\n"
   ]
  },
  {
   "cell_type": "markdown",
   "metadata": {},
   "source": [
    "TODO\n"
   ]
  },
  {
   "cell_type": "code",
   "execution_count": 2,
   "metadata": {
    "execution": {
     "iopub.execute_input": "2024-07-13T01:58:06.626034Z",
     "iopub.status.busy": "2024-07-13T01:58:06.625799Z",
     "iopub.status.idle": "2024-07-13T01:58:06.628536Z",
     "shell.execute_reply": "2024-07-13T01:58:06.628047Z"
    }
   },
   "outputs": [],
   "source": [
    "# TODO\n"
   ]
  }
 ],
 "metadata": {
  "kernelspec": {
   "display_name": "Python 3",
   "language": "python",
   "name": "python3"
  },
  "language_info": {
   "codemirror_mode": {
    "name": "ipython",
    "version": 3
   },
   "file_extension": ".py",
   "mimetype": "text/x-python",
   "name": "python",
   "nbconvert_exporter": "python",
   "pygments_lexer": "ipython3",
   "version": "3.10.12"
  }
 },
 "nbformat": 4,
 "nbformat_minor": 4
}
