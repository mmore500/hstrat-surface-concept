{
 "cells": [
  {
   "cell_type": "code",
   "execution_count": 1,
   "metadata": {
    "execution": {
     "iopub.execute_input": "2024-07-26T00:33:01.360586Z",
     "iopub.status.busy": "2024-07-26T00:33:01.360415Z",
     "iopub.status.idle": "2024-07-26T00:33:01.572832Z",
     "shell.execute_reply": "2024-07-26T00:33:01.572202Z"
    }
   },
   "outputs": [],
   "source": [
    "import pandas as pd\n"
   ]
  },
  {
   "cell_type": "markdown",
   "metadata": {},
   "source": [
    "TODO\n"
   ]
  },
  {
   "cell_type": "code",
   "execution_count": 2,
   "metadata": {
    "execution": {
     "iopub.execute_input": "2024-07-26T00:33:01.575701Z",
     "iopub.status.busy": "2024-07-26T00:33:01.575226Z",
     "iopub.status.idle": "2024-07-26T00:33:01.577916Z",
     "shell.execute_reply": "2024-07-26T00:33:01.577379Z"
    }
   },
   "outputs": [],
   "source": [
    "# TODO\n"
   ]
  }
 ],
 "metadata": {
  "kernelspec": {
   "display_name": "Python 3",
   "language": "python",
   "name": "python3"
  },
  "language_info": {
   "codemirror_mode": {
    "name": "ipython",
    "version": 3
   },
   "file_extension": ".py",
   "mimetype": "text/x-python",
   "name": "python",
   "nbconvert_exporter": "python",
   "pygments_lexer": "ipython3",
   "version": "3.10.12"
  }
 },
 "nbformat": 4,
 "nbformat_minor": 4
}
