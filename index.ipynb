{
 "cells": [
  {
   "cell_type": "code",
   "execution_count": 1,
   "metadata": {
    "execution": {
     "iopub.execute_input": "2023-12-10T00:49:27.894441Z",
     "iopub.status.busy": "2023-12-10T00:49:27.894270Z",
     "iopub.status.idle": "2023-12-10T00:49:28.121609Z",
     "shell.execute_reply": "2023-12-10T00:49:28.121073Z"
    }
   },
   "outputs": [],
   "source": [
    "import pandas as pd\n"
   ]
  },
  {
   "cell_type": "markdown",
   "metadata": {},
   "source": [
    "TODO\n"
   ]
  },
  {
   "cell_type": "code",
   "execution_count": 2,
   "metadata": {
    "execution": {
     "iopub.execute_input": "2023-12-10T00:49:28.124403Z",
     "iopub.status.busy": "2023-12-10T00:49:28.124017Z",
     "iopub.status.idle": "2023-12-10T00:49:28.126737Z",
     "shell.execute_reply": "2023-12-10T00:49:28.126177Z"
    }
   },
   "outputs": [],
   "source": [
    "# TODO\n"
   ]
  }
 ],
 "metadata": {
  "kernelspec": {
   "display_name": "Python 3",
   "language": "python",
   "name": "python3"
  },
  "language_info": {
   "codemirror_mode": {
    "name": "ipython",
    "version": 3
   },
   "file_extension": ".py",
   "mimetype": "text/x-python",
   "name": "python",
   "nbconvert_exporter": "python",
   "pygments_lexer": "ipython3",
   "version": "3.10.12"
  }
 },
 "nbformat": 4,
 "nbformat_minor": 4
}
