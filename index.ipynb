{
 "cells": [
  {
   "cell_type": "code",
   "execution_count": 1,
   "metadata": {
    "execution": {
     "iopub.execute_input": "2024-09-20T02:56:23.949416Z",
     "iopub.status.busy": "2024-09-20T02:56:23.949255Z",
     "iopub.status.idle": "2024-09-20T02:56:24.162336Z",
     "shell.execute_reply": "2024-09-20T02:56:24.161809Z"
    }
   },
   "outputs": [],
   "source": [
    "import pandas as pd\n"
   ]
  },
  {
   "cell_type": "markdown",
   "metadata": {},
   "source": [
    "TODO\n"
   ]
  },
  {
   "cell_type": "code",
   "execution_count": 2,
   "metadata": {
    "execution": {
     "iopub.execute_input": "2024-09-20T02:56:24.164995Z",
     "iopub.status.busy": "2024-09-20T02:56:24.164750Z",
     "iopub.status.idle": "2024-09-20T02:56:24.167499Z",
     "shell.execute_reply": "2024-09-20T02:56:24.166997Z"
    }
   },
   "outputs": [],
   "source": [
    "# TODO\n"
   ]
  }
 ],
 "metadata": {
  "kernelspec": {
   "display_name": "Python 3",
   "language": "python",
   "name": "python3"
  },
  "language_info": {
   "codemirror_mode": {
    "name": "ipython",
    "version": 3
   },
   "file_extension": ".py",
   "mimetype": "text/x-python",
   "name": "python",
   "nbconvert_exporter": "python",
   "pygments_lexer": "ipython3",
   "version": "3.10.12"
  }
 },
 "nbformat": 4,
 "nbformat_minor": 4
}
