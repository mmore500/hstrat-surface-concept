{
 "cells": [
  {
   "cell_type": "code",
   "execution_count": 1,
   "metadata": {
    "execution": {
     "iopub.execute_input": "2024-08-08T07:20:25.825781Z",
     "iopub.status.busy": "2024-08-08T07:20:25.825330Z",
     "iopub.status.idle": "2024-08-08T07:20:26.035283Z",
     "shell.execute_reply": "2024-08-08T07:20:26.034771Z"
    }
   },
   "outputs": [],
   "source": [
    "import pandas as pd\n"
   ]
  },
  {
   "cell_type": "markdown",
   "metadata": {},
   "source": [
    "TODO\n"
   ]
  },
  {
   "cell_type": "code",
   "execution_count": 2,
   "metadata": {
    "execution": {
     "iopub.execute_input": "2024-08-08T07:20:26.038070Z",
     "iopub.status.busy": "2024-08-08T07:20:26.037651Z",
     "iopub.status.idle": "2024-08-08T07:20:26.040227Z",
     "shell.execute_reply": "2024-08-08T07:20:26.039734Z"
    }
   },
   "outputs": [],
   "source": [
    "# TODO\n"
   ]
  }
 ],
 "metadata": {
  "kernelspec": {
   "display_name": "Python 3",
   "language": "python",
   "name": "python3"
  },
  "language_info": {
   "codemirror_mode": {
    "name": "ipython",
    "version": 3
   },
   "file_extension": ".py",
   "mimetype": "text/x-python",
   "name": "python",
   "nbconvert_exporter": "python",
   "pygments_lexer": "ipython3",
   "version": "3.10.12"
  }
 },
 "nbformat": 4,
 "nbformat_minor": 4
}
