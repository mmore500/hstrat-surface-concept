{
 "cells": [
  {
   "cell_type": "code",
   "execution_count": 1,
   "metadata": {
    "execution": {
     "iopub.execute_input": "2023-06-30T04:53:34.434967Z",
     "iopub.status.busy": "2023-06-30T04:53:34.434414Z",
     "iopub.status.idle": "2023-06-30T04:53:34.765796Z",
     "shell.execute_reply": "2023-06-30T04:53:34.765190Z"
    }
   },
   "outputs": [],
   "source": [
    "import pandas as pd\n"
   ]
  },
  {
   "cell_type": "markdown",
   "metadata": {},
   "source": [
    "TODO\n"
   ]
  },
  {
   "cell_type": "code",
   "execution_count": 2,
   "metadata": {
    "execution": {
     "iopub.execute_input": "2023-06-30T04:53:34.769653Z",
     "iopub.status.busy": "2023-06-30T04:53:34.769104Z",
     "iopub.status.idle": "2023-06-30T04:53:34.773134Z",
     "shell.execute_reply": "2023-06-30T04:53:34.772595Z"
    }
   },
   "outputs": [],
   "source": [
    "# TODO\n"
   ]
  }
 ],
 "metadata": {
  "kernelspec": {
   "display_name": "Python 3",
   "language": "python",
   "name": "python3"
  },
  "language_info": {
   "codemirror_mode": {
    "name": "ipython",
    "version": 3
   },
   "file_extension": ".py",
   "mimetype": "text/x-python",
   "name": "python",
   "nbconvert_exporter": "python",
   "pygments_lexer": "ipython3",
   "version": "3.10.6"
  }
 },
 "nbformat": 4,
 "nbformat_minor": 4
}
