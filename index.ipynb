{
 "cells": [
  {
   "cell_type": "code",
   "execution_count": 1,
   "metadata": {
    "execution": {
     "iopub.execute_input": "2023-10-15T01:03:52.832869Z",
     "iopub.status.busy": "2023-10-15T01:03:52.832380Z",
     "iopub.status.idle": "2023-10-15T01:03:53.279503Z",
     "shell.execute_reply": "2023-10-15T01:03:53.278847Z"
    }
   },
   "outputs": [],
   "source": [
    "import pandas as pd\n"
   ]
  },
  {
   "cell_type": "markdown",
   "metadata": {},
   "source": [
    "TODO\n"
   ]
  },
  {
   "cell_type": "code",
   "execution_count": 2,
   "metadata": {
    "execution": {
     "iopub.execute_input": "2023-10-15T01:03:53.283275Z",
     "iopub.status.busy": "2023-10-15T01:03:53.282767Z",
     "iopub.status.idle": "2023-10-15T01:03:53.285917Z",
     "shell.execute_reply": "2023-10-15T01:03:53.285421Z"
    }
   },
   "outputs": [],
   "source": [
    "# TODO\n"
   ]
  }
 ],
 "metadata": {
  "kernelspec": {
   "display_name": "Python 3",
   "language": "python",
   "name": "python3"
  },
  "language_info": {
   "codemirror_mode": {
    "name": "ipython",
    "version": 3
   },
   "file_extension": ".py",
   "mimetype": "text/x-python",
   "name": "python",
   "nbconvert_exporter": "python",
   "pygments_lexer": "ipython3",
   "version": "3.10.12"
  }
 },
 "nbformat": 4,
 "nbformat_minor": 4
}
