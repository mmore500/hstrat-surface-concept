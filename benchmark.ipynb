{
 "cells": [
  {
   "cell_type": "code",
   "execution_count": 1,
   "metadata": {
    "execution": {
     "iopub.execute_input": "2024-07-13T01:46:53.513801Z",
     "iopub.status.busy": "2024-07-13T01:46:53.513627Z",
     "iopub.status.idle": "2024-07-13T01:46:54.299652Z",
     "shell.execute_reply": "2024-07-13T01:46:54.299031Z"
    }
   },
   "outputs": [],
   "source": [
    "import logging\n",
    "import random\n",
    "\n",
    "from backstrip import backplot\n",
    "from nbmetalog import nbmetalog as nbm\n",
    "import pandas as pd\n",
    "import pecking\n",
    "from teeplot import teeplot as tp\n",
    "\n",
    "random.seed(1)\n",
    "\n",
    "logging.basicConfig(\n",
    "    format=\"[%(funcName)s:%(lineno)d] %(message)s\",\n",
    ")\n",
    "logger = logging.getLogger()\n"
   ]
  },
  {
   "cell_type": "code",
   "execution_count": 2,
   "metadata": {
    "execution": {
     "iopub.execute_input": "2024-07-13T01:46:54.302746Z",
     "iopub.status.busy": "2024-07-13T01:46:54.302399Z",
     "iopub.status.idle": "2024-07-13T01:46:54.511271Z",
     "shell.execute_reply": "2024-07-13T01:46:54.510597Z"
    }
   },
   "outputs": [
    {
     "name": "stdout",
     "output_type": "stream",
     "text": [
      "context: ci\n",
      "hostname: fv-az887-625\n",
      "interpreter: 3.10.12 (main, Nov 20 2023, 15:14:05) [GCC 11.4.0]\n",
      "nbcellexec: null\n",
      "nbname: benchmark\n",
      "nbpath: /home/runner/work/hstrat-surface-concept/hstrat-surface-concept/binder/benchmark.ipynb\n",
      "revision: null\n",
      "session: 68b7f3e4-3dec-4ba9-8a23-c321d4ad662f\n",
      "timestamp: 2024-07-13T01:46:54Z00:00\n",
      "\n",
      "\n",
      "IPython==7.31.1\n",
      "keyname==0.5.2\n",
      "yaml==6.0\n",
      "logging==0.5.1.2\n",
      "nbmetalog==0.2.6\n",
      "pandas==1.5.2\n",
      "pecking==0.2.1\n",
      "teeplot==1.0.1\n",
      "re==2.2.1\n",
      "comm==0.1.3\n",
      "psutil==5.9.5\n",
      "zmq==25.1.0\n",
      "json==2.0.9\n",
      "ipykernel==6.23.3\n"
     ]
    }
   ],
   "source": [
    "nbm.print_metadata()\n"
   ]
  },
  {
   "cell_type": "markdown",
   "metadata": {},
   "source": [
    "## Get Data\n"
   ]
  },
  {
   "cell_type": "code",
   "execution_count": 3,
   "metadata": {
    "execution": {
     "iopub.execute_input": "2024-07-13T01:46:54.542919Z",
     "iopub.status.busy": "2024-07-13T01:46:54.542392Z",
     "iopub.status.idle": "2024-07-13T01:46:55.468338Z",
     "shell.execute_reply": "2024-07-13T01:46:55.467792Z"
    }
   },
   "outputs": [],
   "source": [
    "df = pd.read_csv(\"https://osf.io/n4xyp/download\")\n"
   ]
  },
  {
   "cell_type": "code",
   "execution_count": 4,
   "metadata": {
    "execution": {
     "iopub.execute_input": "2024-07-13T01:46:55.471017Z",
     "iopub.status.busy": "2024-07-13T01:46:55.470803Z",
     "iopub.status.idle": "2024-07-13T01:46:55.474625Z",
     "shell.execute_reply": "2024-07-13T01:46:55.474030Z"
    }
   },
   "outputs": [],
   "source": [
    "df[\"Nanoseconds per Op\"] = df[\"Nanoseconds\"] / df[\"Num Operations\"]\n"
   ]
  },
  {
   "cell_type": "markdown",
   "metadata": {},
   "source": [
    "## Statistics\n"
   ]
  },
  {
   "cell_type": "markdown",
   "metadata": {},
   "source": [
    "nanoseconds per op mean & SE\n"
   ]
  },
  {
   "cell_type": "code",
   "execution_count": 5,
   "metadata": {
    "execution": {
     "iopub.execute_input": "2024-07-13T01:46:55.476763Z",
     "iopub.status.busy": "2024-07-13T01:46:55.476588Z",
     "iopub.status.idle": "2024-07-13T01:46:55.501234Z",
     "shell.execute_reply": "2024-07-13T01:46:55.500509Z"
    }
   },
   "outputs": [
    {
     "name": "stderr",
     "output_type": "stream",
     "text": [
      "/tmp/ipykernel_4045/2367864808.py:1: FutureWarning: ['Language'] did not aggregate successfully. If any error is raised this will raise in a future version of pandas. Drop these columns/ops to avoid this warning.\n",
      "  dfg = df.groupby([\"Implementation\", \"Policy\"]).agg([\"mean\", \"sem\"])\n"
     ]
    },
    {
     "data": {
      "text/html": [
       "<div>\n",
       "<style scoped>\n",
       "    .dataframe tbody tr th:only-of-type {\n",
       "        vertical-align: middle;\n",
       "    }\n",
       "\n",
       "    .dataframe tbody tr th {\n",
       "        vertical-align: top;\n",
       "    }\n",
       "\n",
       "    .dataframe thead tr th {\n",
       "        text-align: left;\n",
       "    }\n",
       "\n",
       "    .dataframe thead tr:last-of-type th {\n",
       "        text-align: right;\n",
       "    }\n",
       "</style>\n",
       "<table border=\"1\" class=\"dataframe\">\n",
       "  <thead>\n",
       "    <tr>\n",
       "      <th></th>\n",
       "      <th></th>\n",
       "      <th colspan=\"2\" halign=\"left\">Nanoseconds</th>\n",
       "      <th colspan=\"2\" halign=\"left\">Num Operations</th>\n",
       "      <th colspan=\"2\" halign=\"left\">Replicate</th>\n",
       "      <th colspan=\"2\" halign=\"left\">Surface Size</th>\n",
       "      <th colspan=\"2\" halign=\"left\">Nanoseconds per Op</th>\n",
       "    </tr>\n",
       "    <tr>\n",
       "      <th></th>\n",
       "      <th></th>\n",
       "      <th>mean</th>\n",
       "      <th>sem</th>\n",
       "      <th>mean</th>\n",
       "      <th>sem</th>\n",
       "      <th>mean</th>\n",
       "      <th>sem</th>\n",
       "      <th>mean</th>\n",
       "      <th>sem</th>\n",
       "      <th>mean</th>\n",
       "      <th>sem</th>\n",
       "    </tr>\n",
       "    <tr>\n",
       "      <th>Implementation</th>\n",
       "      <th>Policy</th>\n",
       "      <th></th>\n",
       "      <th></th>\n",
       "      <th></th>\n",
       "      <th></th>\n",
       "      <th></th>\n",
       "      <th></th>\n",
       "      <th></th>\n",
       "      <th></th>\n",
       "      <th></th>\n",
       "      <th></th>\n",
       "    </tr>\n",
       "  </thead>\n",
       "  <tbody>\n",
       "    <tr>\n",
       "      <th rowspan=\"5\" valign=\"top\">column</th>\n",
       "      <th>geom-seq-nth-root</th>\n",
       "      <td>3.445221e+08</td>\n",
       "      <td>3.908038e+06</td>\n",
       "      <td>1000.0</td>\n",
       "      <td>0.0</td>\n",
       "      <td>9.5</td>\n",
       "      <td>1.322876</td>\n",
       "      <td>64.0</td>\n",
       "      <td>0.0</td>\n",
       "      <td>344522.10370</td>\n",
       "      <td>3908.037981</td>\n",
       "    </tr>\n",
       "    <tr>\n",
       "      <th>recency-proportional-resolution</th>\n",
       "      <td>4.246484e+07</td>\n",
       "      <td>7.129304e+05</td>\n",
       "      <td>1000.0</td>\n",
       "      <td>0.0</td>\n",
       "      <td>9.5</td>\n",
       "      <td>1.322876</td>\n",
       "      <td>64.0</td>\n",
       "      <td>0.0</td>\n",
       "      <td>42464.84115</td>\n",
       "      <td>712.930446</td>\n",
       "    </tr>\n",
       "    <tr>\n",
       "      <th>steady</th>\n",
       "      <td>2.976023e+07</td>\n",
       "      <td>6.449004e+05</td>\n",
       "      <td>1000.0</td>\n",
       "      <td>0.0</td>\n",
       "      <td>9.5</td>\n",
       "      <td>1.322876</td>\n",
       "      <td>64.0</td>\n",
       "      <td>0.0</td>\n",
       "      <td>29760.22820</td>\n",
       "      <td>644.900394</td>\n",
       "    </tr>\n",
       "    <tr>\n",
       "      <th>tilted</th>\n",
       "      <td>1.424018e+08</td>\n",
       "      <td>6.197587e+06</td>\n",
       "      <td>1000.0</td>\n",
       "      <td>0.0</td>\n",
       "      <td>9.5</td>\n",
       "      <td>1.322876</td>\n",
       "      <td>64.0</td>\n",
       "      <td>0.0</td>\n",
       "      <td>142401.83355</td>\n",
       "      <td>6197.587201</td>\n",
       "    </tr>\n",
       "    <tr>\n",
       "      <th>trivial</th>\n",
       "      <td>8.946327e+06</td>\n",
       "      <td>1.492538e+05</td>\n",
       "      <td>1000.0</td>\n",
       "      <td>0.0</td>\n",
       "      <td>9.5</td>\n",
       "      <td>1.322876</td>\n",
       "      <td>64.0</td>\n",
       "      <td>0.0</td>\n",
       "      <td>8946.32720</td>\n",
       "      <td>149.253754</td>\n",
       "    </tr>\n",
       "    <tr>\n",
       "      <th rowspan=\"4\" valign=\"top\">surface</th>\n",
       "      <th>steady</th>\n",
       "      <td>4.287791e+06</td>\n",
       "      <td>4.971985e+04</td>\n",
       "      <td>1000.0</td>\n",
       "      <td>0.0</td>\n",
       "      <td>9.5</td>\n",
       "      <td>1.322876</td>\n",
       "      <td>64.0</td>\n",
       "      <td>0.0</td>\n",
       "      <td>4287.79065</td>\n",
       "      <td>49.719845</td>\n",
       "    </tr>\n",
       "    <tr>\n",
       "      <th>tilted</th>\n",
       "      <td>4.229838e+06</td>\n",
       "      <td>6.569699e+04</td>\n",
       "      <td>1000.0</td>\n",
       "      <td>0.0</td>\n",
       "      <td>9.5</td>\n",
       "      <td>1.322876</td>\n",
       "      <td>64.0</td>\n",
       "      <td>0.0</td>\n",
       "      <td>4229.83755</td>\n",
       "      <td>65.696989</td>\n",
       "    </tr>\n",
       "    <tr>\n",
       "      <th>tilted-sticky</th>\n",
       "      <td>4.100569e+06</td>\n",
       "      <td>4.223019e+04</td>\n",
       "      <td>1000.0</td>\n",
       "      <td>0.0</td>\n",
       "      <td>9.5</td>\n",
       "      <td>1.322876</td>\n",
       "      <td>64.0</td>\n",
       "      <td>0.0</td>\n",
       "      <td>4100.56855</td>\n",
       "      <td>42.230191</td>\n",
       "    </tr>\n",
       "    <tr>\n",
       "      <th>trivial</th>\n",
       "      <td>1.024220e+06</td>\n",
       "      <td>1.188971e+03</td>\n",
       "      <td>1000.0</td>\n",
       "      <td>0.0</td>\n",
       "      <td>9.5</td>\n",
       "      <td>1.322876</td>\n",
       "      <td>64.0</td>\n",
       "      <td>0.0</td>\n",
       "      <td>1024.21960</td>\n",
       "      <td>1.188971</td>\n",
       "    </tr>\n",
       "  </tbody>\n",
       "</table>\n",
       "</div>"
      ],
      "text/plain": [
       "                                                 Nanoseconds                \\\n",
       "                                                        mean           sem   \n",
       "Implementation Policy                                                        \n",
       "column         geom-seq-nth-root                3.445221e+08  3.908038e+06   \n",
       "               recency-proportional-resolution  4.246484e+07  7.129304e+05   \n",
       "               steady                           2.976023e+07  6.449004e+05   \n",
       "               tilted                           1.424018e+08  6.197587e+06   \n",
       "               trivial                          8.946327e+06  1.492538e+05   \n",
       "surface        steady                           4.287791e+06  4.971985e+04   \n",
       "               tilted                           4.229838e+06  6.569699e+04   \n",
       "               tilted-sticky                    4.100569e+06  4.223019e+04   \n",
       "               trivial                          1.024220e+06  1.188971e+03   \n",
       "\n",
       "                                               Num Operations      Replicate  \\\n",
       "                                                         mean  sem      mean   \n",
       "Implementation Policy                                                          \n",
       "column         geom-seq-nth-root                       1000.0  0.0       9.5   \n",
       "               recency-proportional-resolution         1000.0  0.0       9.5   \n",
       "               steady                                  1000.0  0.0       9.5   \n",
       "               tilted                                  1000.0  0.0       9.5   \n",
       "               trivial                                 1000.0  0.0       9.5   \n",
       "surface        steady                                  1000.0  0.0       9.5   \n",
       "               tilted                                  1000.0  0.0       9.5   \n",
       "               tilted-sticky                           1000.0  0.0       9.5   \n",
       "               trivial                                 1000.0  0.0       9.5   \n",
       "\n",
       "                                                         Surface Size       \\\n",
       "                                                     sem         mean  sem   \n",
       "Implementation Policy                                                        \n",
       "column         geom-seq-nth-root                1.322876         64.0  0.0   \n",
       "               recency-proportional-resolution  1.322876         64.0  0.0   \n",
       "               steady                           1.322876         64.0  0.0   \n",
       "               tilted                           1.322876         64.0  0.0   \n",
       "               trivial                          1.322876         64.0  0.0   \n",
       "surface        steady                           1.322876         64.0  0.0   \n",
       "               tilted                           1.322876         64.0  0.0   \n",
       "               tilted-sticky                    1.322876         64.0  0.0   \n",
       "               trivial                          1.322876         64.0  0.0   \n",
       "\n",
       "                                               Nanoseconds per Op               \n",
       "                                                             mean          sem  \n",
       "Implementation Policy                                                           \n",
       "column         geom-seq-nth-root                     344522.10370  3908.037981  \n",
       "               recency-proportional-resolution        42464.84115   712.930446  \n",
       "               steady                                 29760.22820   644.900394  \n",
       "               tilted                                142401.83355  6197.587201  \n",
       "               trivial                                 8946.32720   149.253754  \n",
       "surface        steady                                  4287.79065    49.719845  \n",
       "               tilted                                  4229.83755    65.696989  \n",
       "               tilted-sticky                           4100.56855    42.230191  \n",
       "               trivial                                 1024.21960     1.188971  "
      ]
     },
     "execution_count": 5,
     "metadata": {},
     "output_type": "execute_result"
    }
   ],
   "source": [
    "dfg = df.groupby([\"Implementation\", \"Policy\"]).agg([\"mean\", \"sem\"])\n",
    "dfg\n"
   ]
  },
  {
   "cell_type": "markdown",
   "metadata": {},
   "source": [
    "op to trivial ratio\n"
   ]
  },
  {
   "cell_type": "code",
   "execution_count": 6,
   "metadata": {
    "execution": {
     "iopub.execute_input": "2024-07-13T01:46:55.504144Z",
     "iopub.status.busy": "2024-07-13T01:46:55.503802Z",
     "iopub.status.idle": "2024-07-13T01:46:55.516803Z",
     "shell.execute_reply": "2024-07-13T01:46:55.516297Z"
    }
   },
   "outputs": [
    {
     "data": {
      "text/html": [
       "<div>\n",
       "<style scoped>\n",
       "    .dataframe tbody tr th:only-of-type {\n",
       "        vertical-align: middle;\n",
       "    }\n",
       "\n",
       "    .dataframe tbody tr th {\n",
       "        vertical-align: top;\n",
       "    }\n",
       "\n",
       "    .dataframe thead th {\n",
       "        text-align: right;\n",
       "    }\n",
       "</style>\n",
       "<table border=\"1\" class=\"dataframe\">\n",
       "  <thead>\n",
       "    <tr style=\"text-align: right;\">\n",
       "      <th></th>\n",
       "      <th></th>\n",
       "      <th>mean</th>\n",
       "      <th>sem</th>\n",
       "    </tr>\n",
       "    <tr>\n",
       "      <th>Implementation</th>\n",
       "      <th>Policy</th>\n",
       "      <th></th>\n",
       "      <th></th>\n",
       "    </tr>\n",
       "  </thead>\n",
       "  <tbody>\n",
       "    <tr>\n",
       "      <th rowspan=\"5\" valign=\"top\">column</th>\n",
       "      <th>geom-seq-nth-root</th>\n",
       "      <td>38.509893</td>\n",
       "      <td>0.436832</td>\n",
       "    </tr>\n",
       "    <tr>\n",
       "      <th>recency-proportional-resolution</th>\n",
       "      <td>4.746623</td>\n",
       "      <td>0.079690</td>\n",
       "    </tr>\n",
       "    <tr>\n",
       "      <th>steady</th>\n",
       "      <td>3.326530</td>\n",
       "      <td>0.072085</td>\n",
       "    </tr>\n",
       "    <tr>\n",
       "      <th>tilted</th>\n",
       "      <td>15.917351</td>\n",
       "      <td>0.692752</td>\n",
       "    </tr>\n",
       "    <tr>\n",
       "      <th>trivial</th>\n",
       "      <td>1.000000</td>\n",
       "      <td>0.016683</td>\n",
       "    </tr>\n",
       "    <tr>\n",
       "      <th rowspan=\"4\" valign=\"top\">surface</th>\n",
       "      <th>steady</th>\n",
       "      <td>4.186398</td>\n",
       "      <td>0.048544</td>\n",
       "    </tr>\n",
       "    <tr>\n",
       "      <th>tilted</th>\n",
       "      <td>4.129815</td>\n",
       "      <td>0.064143</td>\n",
       "    </tr>\n",
       "    <tr>\n",
       "      <th>tilted-sticky</th>\n",
       "      <td>4.003603</td>\n",
       "      <td>0.041232</td>\n",
       "    </tr>\n",
       "    <tr>\n",
       "      <th>trivial</th>\n",
       "      <td>1.000000</td>\n",
       "      <td>0.001161</td>\n",
       "    </tr>\n",
       "  </tbody>\n",
       "</table>\n",
       "</div>"
      ],
      "text/plain": [
       "                                                     mean       sem\n",
       "Implementation Policy                                              \n",
       "column         geom-seq-nth-root                38.509893  0.436832\n",
       "               recency-proportional-resolution   4.746623  0.079690\n",
       "               steady                            3.326530  0.072085\n",
       "               tilted                           15.917351  0.692752\n",
       "               trivial                           1.000000  0.016683\n",
       "surface        steady                            4.186398  0.048544\n",
       "               tilted                            4.129815  0.064143\n",
       "               tilted-sticky                     4.003603  0.041232\n",
       "               trivial                           1.000000  0.001161"
      ]
     },
     "execution_count": 6,
     "metadata": {},
     "output_type": "execute_result"
    }
   ],
   "source": [
    "def divide_by_subset_mean(group):\n",
    "    group[\"Trivial Ratio\"] = (\n",
    "        group[\"Nanoseconds\"]\n",
    "        / group[group[\"Policy\"] == \"trivial\"][\"Nanoseconds\"].mean()\n",
    "    )\n",
    "    return group\n",
    "\n",
    "\n",
    "result = (\n",
    "    df.groupby([\"Implementation\"], group_keys=True)\n",
    "    .apply(divide_by_subset_mean)\n",
    "    .reset_index(drop=True)\n",
    ")\n",
    "result.groupby([\"Implementation\", \"Policy\"])[\"Trivial Ratio\"].agg([\"mean\", \"sem\"])\n"
   ]
  },
  {
   "cell_type": "code",
   "execution_count": 7,
   "metadata": {
    "execution": {
     "iopub.execute_input": "2024-07-13T01:46:55.519360Z",
     "iopub.status.busy": "2024-07-13T01:46:55.519001Z",
     "iopub.status.idle": "2024-07-13T01:46:55.527961Z",
     "shell.execute_reply": "2024-07-13T01:46:55.527385Z"
    }
   },
   "outputs": [
    {
     "data": {
      "text/html": [
       "<div>\n",
       "<style scoped>\n",
       "    .dataframe tbody tr th:only-of-type {\n",
       "        vertical-align: middle;\n",
       "    }\n",
       "\n",
       "    .dataframe tbody tr th {\n",
       "        vertical-align: top;\n",
       "    }\n",
       "\n",
       "    .dataframe thead th {\n",
       "        text-align: right;\n",
       "    }\n",
       "</style>\n",
       "<table border=\"1\" class=\"dataframe\">\n",
       "  <thead>\n",
       "    <tr style=\"text-align: right;\">\n",
       "      <th></th>\n",
       "      <th></th>\n",
       "      <th>mean</th>\n",
       "      <th>sem</th>\n",
       "    </tr>\n",
       "    <tr>\n",
       "      <th>Implementation</th>\n",
       "      <th>Policy</th>\n",
       "      <th></th>\n",
       "      <th></th>\n",
       "    </tr>\n",
       "  </thead>\n",
       "  <tbody>\n",
       "    <tr>\n",
       "      <th rowspan=\"5\" valign=\"top\">column</th>\n",
       "      <th>geom-seq-nth-root</th>\n",
       "      <td>336.375230</td>\n",
       "      <td>3.815625</td>\n",
       "    </tr>\n",
       "    <tr>\n",
       "      <th>recency-proportional-resolution</th>\n",
       "      <td>41.460680</td>\n",
       "      <td>0.696072</td>\n",
       "    </tr>\n",
       "    <tr>\n",
       "      <th>steady</th>\n",
       "      <td>29.056492</td>\n",
       "      <td>0.629651</td>\n",
       "    </tr>\n",
       "    <tr>\n",
       "      <th>tilted</th>\n",
       "      <td>139.034474</td>\n",
       "      <td>6.051034</td>\n",
       "    </tr>\n",
       "    <tr>\n",
       "      <th>trivial</th>\n",
       "      <td>8.734774</td>\n",
       "      <td>0.145724</td>\n",
       "    </tr>\n",
       "    <tr>\n",
       "      <th rowspan=\"4\" valign=\"top\">surface</th>\n",
       "      <th>steady</th>\n",
       "      <td>4.186398</td>\n",
       "      <td>0.048544</td>\n",
       "    </tr>\n",
       "    <tr>\n",
       "      <th>tilted</th>\n",
       "      <td>4.129815</td>\n",
       "      <td>0.064143</td>\n",
       "    </tr>\n",
       "    <tr>\n",
       "      <th>tilted-sticky</th>\n",
       "      <td>4.003603</td>\n",
       "      <td>0.041232</td>\n",
       "    </tr>\n",
       "    <tr>\n",
       "      <th>trivial</th>\n",
       "      <td>1.000000</td>\n",
       "      <td>0.001161</td>\n",
       "    </tr>\n",
       "  </tbody>\n",
       "</table>\n",
       "</div>"
      ],
      "text/plain": [
       "                                                      mean       sem\n",
       "Implementation Policy                                               \n",
       "column         geom-seq-nth-root                336.375230  3.815625\n",
       "               recency-proportional-resolution   41.460680  0.696072\n",
       "               steady                            29.056492  0.629651\n",
       "               tilted                           139.034474  6.051034\n",
       "               trivial                            8.734774  0.145724\n",
       "surface        steady                             4.186398  0.048544\n",
       "               tilted                             4.129815  0.064143\n",
       "               tilted-sticky                      4.003603  0.041232\n",
       "               trivial                            1.000000  0.001161"
      ]
     },
     "execution_count": 7,
     "metadata": {},
     "output_type": "execute_result"
    }
   ],
   "source": [
    "df[\"Trivial Ratio\"] = (\n",
    "    df[\"Nanoseconds\"]\n",
    "    / df[(df[\"Policy\"] == \"trivial\") & (df[\"Implementation\"] == \"surface\")][\"Nanoseconds\"].mean()\n",
    ")\n",
    "df.groupby([\"Implementation\", \"Policy\"])[\"Trivial Ratio\"].agg([\"mean\", \"sem\"])\n"
   ]
  },
  {
   "cell_type": "markdown",
   "metadata": {},
   "source": [
    "## Visualize Results\n"
   ]
  },
  {
   "cell_type": "code",
   "execution_count": 8,
   "metadata": {
    "execution": {
     "iopub.execute_input": "2024-07-13T01:46:55.530398Z",
     "iopub.status.busy": "2024-07-13T01:46:55.530043Z",
     "iopub.status.idle": "2024-07-13T01:46:56.769300Z",
     "shell.execute_reply": "2024-07-13T01:46:56.768560Z"
    }
   },
   "outputs": [
    {
     "name": "stdout",
     "output_type": "stream",
     "text": [
      "teeplots/all=false+hue=implementation+orient=h+score=nanoseconds-per-op+viz=peckplot+x=nanoseconds-per-op+y=policy+y-group=outer+ext=.pdf\n",
      "teeplots/all=false+hue=implementation+orient=h+score=nanoseconds-per-op+viz=peckplot+x=nanoseconds-per-op+y=policy+y-group=outer+ext=.png\n"
     ]
    },
    {
     "data": {
      "image/png": "[encoded data removed]",
      "text/plain": [
       "<Figure size 871.361x250 with 1 Axes>"
      ]
     },
     "metadata": {},
     "output_type": "display_data"
    },
    {
     "data": {
      "text/plain": [
       "<seaborn.axisgrid.FacetGrid at 0x7f38c71fc490>"
      ]
     },
     "execution_count": 8,
     "metadata": {},
     "output_type": "execute_result"
    }
   ],
   "source": [
    "tp.tee(\n",
    "    pecking.peckplot,\n",
    "    data=df[\n",
    "        df[\"Policy\"].isin(\n",
    "            [\"steady\", \"tilted\", \"trivial\"],\n",
    "        )\n",
    "    ],\n",
    "    y=\"Policy\",\n",
    "    x=\"Nanoseconds per Op\",\n",
    "    hue=\"Implementation\",\n",
    "    score=\"Nanoseconds per Op\",\n",
    "    y_group=\"outer\",\n",
    "    orient=\"h\",\n",
    "    aspect=3,\n",
    "    height=2.5,\n",
    "    skimmers=[pecking.skim_lowest],\n",
    "    skim_labels=[\"fastest\"],\n",
    "    skim_hatches=[\"*\"],\n",
    "    log_scale=(True, False),\n",
    "    teeplot_outattrs={\n",
    "        \"all\": \"false\",\n",
    "    },\n",
    ")\n"
   ]
  },
  {
   "cell_type": "code",
   "execution_count": 9,
   "metadata": {
    "execution": {
     "iopub.execute_input": "2024-07-13T01:46:56.771724Z",
     "iopub.status.busy": "2024-07-13T01:46:56.771544Z",
     "iopub.status.idle": "2024-07-13T01:46:58.163155Z",
     "shell.execute_reply": "2024-07-13T01:46:58.162492Z"
    }
   },
   "outputs": [
    {
     "name": "stdout",
     "output_type": "stream",
     "text": [
      "teeplots/all=true+hue=implementation+orient=h+viz=backplot+x=nanoseconds-per-op+y=policy+ext=.pdf\n",
      "teeplots/all=true+hue=implementation+orient=h+viz=backplot+x=nanoseconds-per-op+y=policy+ext=.png\n"
     ]
    },
    {
     "data": {
      "image/png": "[encoded data removed]",
      "text/plain": [
       "<Figure size 1371.36x500 with 1 Axes>"
      ]
     },
     "metadata": {},
     "output_type": "display_data"
    },
    {
     "data": {
      "text/plain": [
       "<seaborn.axisgrid.FacetGrid at 0x7f38b0a9da50>"
      ]
     },
     "execution_count": 9,
     "metadata": {},
     "output_type": "execute_result"
    }
   ],
   "source": [
    "tp.tee(\n",
    "    backplot,\n",
    "    data=df,\n",
    "    y=\"Policy\",\n",
    "    x=\"Nanoseconds per Op\",\n",
    "    hue=\"Implementation\",\n",
    "    orient=\"h\",\n",
    "    aspect=2.5,\n",
    "    log_scale=(True, False),\n",
    "    teeplot_outattrs={\n",
    "        \"all\": \"true\",\n",
    "    },\n",
    ")\n"
   ]
  }
 ],
 "metadata": {
  "kernelspec": {
   "display_name": "Python 3",
   "language": "python",
   "name": "python3"
  },
  "language_info": {
   "codemirror_mode": {
    "name": "ipython",
    "version": 3
   },
   "file_extension": ".py",
   "mimetype": "text/x-python",
   "name": "python",
   "nbconvert_exporter": "python",
   "pygments_lexer": "ipython3",
   "version": "3.10.12"
  }
 },
 "nbformat": 4,
 "nbformat_minor": 2
}
